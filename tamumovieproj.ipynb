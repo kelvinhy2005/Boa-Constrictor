{
 "cells": [
  {
   "cell_type": "code",
   "execution_count": 1,
   "metadata": {},
   "outputs": [],
   "source": [
    "import pandas as pd\n",
    "import numpy as np\n",
    "import matplotlib.pyplot as plt\n",
    "from scipy import stats, integrate\n",
    "import seaborn as sns"
   ]
  },
  {
   "cell_type": "code",
   "execution_count": 2,
   "metadata": {},
   "outputs": [],
   "source": [
    "moviedata = pd.read_csv(\"movies_data.csv\")"
   ]
  },
  {
   "cell_type": "code",
   "execution_count": 3,
   "metadata": {},
   "outputs": [
    {
     "data": {
      "text/plain": [
       "(2242, 11)"
      ]
     },
     "execution_count": 3,
     "metadata": {},
     "output_type": "execute_result"
    }
   ],
   "source": [
    "moviedata.shape"
   ]
  },
  {
   "cell_type": "code",
   "execution_count": 4,
   "metadata": {},
   "outputs": [
    {
     "data": {
      "text/plain": [
       "Index(['budget', 'genres', 'id', 'production_companies', 'release_date',\n",
       "       'release_month', 'revenue', 'tagline', 'title', 'vote_average',\n",
       "       'award_noms'],\n",
       "      dtype='object')"
      ]
     },
     "execution_count": 4,
     "metadata": {},
     "output_type": "execute_result"
    }
   ],
   "source": [
    "moviedata.columns"
   ]
  },
  {
   "cell_type": "code",
   "execution_count": 8,
   "metadata": {},
   "outputs": [
    {
     "data": {
      "text/html": [
       "<div>\n",
       "<style scoped>\n",
       "    .dataframe tbody tr th:only-of-type {\n",
       "        vertical-align: middle;\n",
       "    }\n",
       "\n",
       "    .dataframe tbody tr th {\n",
       "        vertical-align: top;\n",
       "    }\n",
       "\n",
       "    .dataframe thead th {\n",
       "        text-align: right;\n",
       "    }\n",
       "</style>\n",
       "<table border=\"1\" class=\"dataframe\">\n",
       "  <thead>\n",
       "    <tr style=\"text-align: right;\">\n",
       "      <th></th>\n",
       "      <th>budget</th>\n",
       "      <th>genres</th>\n",
       "      <th>id</th>\n",
       "      <th>production_companies</th>\n",
       "      <th>release_date</th>\n",
       "      <th>release_month</th>\n",
       "      <th>revenue</th>\n",
       "      <th>tagline</th>\n",
       "      <th>title</th>\n",
       "      <th>vote_average</th>\n",
       "      <th>award_noms</th>\n",
       "    </tr>\n",
       "  </thead>\n",
       "  <tbody>\n",
       "    <tr>\n",
       "      <th>0</th>\n",
       "      <td>3512454</td>\n",
       "      <td>Drama</td>\n",
       "      <td>110428</td>\n",
       "      <td>[{'name': 'Canal+', 'id': 5358}, {'name': 'Art...</td>\n",
       "      <td>3/13/2013</td>\n",
       "      <td>March</td>\n",
       "      <td>115860</td>\n",
       "      <td>NaN</td>\n",
       "      <td>Camille Claudel 1915</td>\n",
       "      <td>7.0</td>\n",
       "      <td>0</td>\n",
       "    </tr>\n",
       "    <tr>\n",
       "      <th>1</th>\n",
       "      <td>40000000</td>\n",
       "      <td>Adventure</td>\n",
       "      <td>77221</td>\n",
       "      <td>[{'name': 'France 2 CinÃ©ma', 'id': 83}, {'nam...</td>\n",
       "      <td>12/21/2011</td>\n",
       "      <td>December</td>\n",
       "      <td>5446000</td>\n",
       "      <td>NaN</td>\n",
       "      <td>Black Gold</td>\n",
       "      <td>5.9</td>\n",
       "      <td>0</td>\n",
       "    </tr>\n",
       "    <tr>\n",
       "      <th>2</th>\n",
       "      <td>21000000</td>\n",
       "      <td>Crime</td>\n",
       "      <td>1646</td>\n",
       "      <td>[{'name': 'Double Feature Films', 'id': 215}, ...</td>\n",
       "      <td>1/5/2007</td>\n",
       "      <td>January</td>\n",
       "      <td>41170784</td>\n",
       "      <td>Their story. Their world. Their future.</td>\n",
       "      <td>Freedom Writers</td>\n",
       "      <td>7.6</td>\n",
       "      <td>0</td>\n",
       "    </tr>\n",
       "    <tr>\n",
       "      <th>3</th>\n",
       "      <td>20000000</td>\n",
       "      <td>Action</td>\n",
       "      <td>14396</td>\n",
       "      <td>[{'name': 'New Line Cinema', 'id': 12}]</td>\n",
       "      <td>1/5/2007</td>\n",
       "      <td>January</td>\n",
       "      <td>10337477</td>\n",
       "      <td>NaN</td>\n",
       "      <td>Code Name: The Cleaner</td>\n",
       "      <td>4.7</td>\n",
       "      <td>0</td>\n",
       "    </tr>\n",
       "    <tr>\n",
       "      <th>4</th>\n",
       "      <td>13000000</td>\n",
       "      <td>Drama</td>\n",
       "      <td>1931</td>\n",
       "      <td>[{'name': 'Rainforest Films', 'id': 1309}]</td>\n",
       "      <td>5/16/2007</td>\n",
       "      <td>May</td>\n",
       "      <td>75511123</td>\n",
       "      <td>He will challenge their traditions. Their trad...</td>\n",
       "      <td>Stomp the Yard</td>\n",
       "      <td>6.1</td>\n",
       "      <td>0</td>\n",
       "    </tr>\n",
       "  </tbody>\n",
       "</table>\n",
       "</div>"
      ],
      "text/plain": [
       "     budget     genres      id  \\\n",
       "0   3512454      Drama  110428   \n",
       "1  40000000  Adventure   77221   \n",
       "2  21000000      Crime    1646   \n",
       "3  20000000     Action   14396   \n",
       "4  13000000      Drama    1931   \n",
       "\n",
       "                                production_companies release_date  \\\n",
       "0  [{'name': 'Canal+', 'id': 5358}, {'name': 'Art...    3/13/2013   \n",
       "1  [{'name': 'France 2 CinÃ©ma', 'id': 83}, {'nam...   12/21/2011   \n",
       "2  [{'name': 'Double Feature Films', 'id': 215}, ...     1/5/2007   \n",
       "3            [{'name': 'New Line Cinema', 'id': 12}]     1/5/2007   \n",
       "4         [{'name': 'Rainforest Films', 'id': 1309}]    5/16/2007   \n",
       "\n",
       "  release_month   revenue                                            tagline  \\\n",
       "0         March    115860                                                NaN   \n",
       "1      December   5446000                                                NaN   \n",
       "2       January  41170784            Their story. Their world. Their future.   \n",
       "3       January  10337477                                                NaN   \n",
       "4           May  75511123  He will challenge their traditions. Their trad...   \n",
       "\n",
       "                    title  vote_average  award_noms  \n",
       "0    Camille Claudel 1915           7.0           0  \n",
       "1              Black Gold           5.9           0  \n",
       "2         Freedom Writers           7.6           0  \n",
       "3  Code Name: The Cleaner           4.7           0  \n",
       "4          Stomp the Yard           6.1           0  "
      ]
     },
     "execution_count": 8,
     "metadata": {},
     "output_type": "execute_result"
    }
   ],
   "source": [
    "moviedata.head()"
   ]
  },
  {
   "cell_type": "code",
   "execution_count": 3,
   "metadata": {},
   "outputs": [
    {
     "data": {
      "text/html": [
       "<div>\n",
       "<style scoped>\n",
       "    .dataframe tbody tr th:only-of-type {\n",
       "        vertical-align: middle;\n",
       "    }\n",
       "\n",
       "    .dataframe tbody tr th {\n",
       "        vertical-align: top;\n",
       "    }\n",
       "\n",
       "    .dataframe thead th {\n",
       "        text-align: right;\n",
       "    }\n",
       "</style>\n",
       "<table border=\"1\" class=\"dataframe\">\n",
       "  <thead>\n",
       "    <tr style=\"text-align: right;\">\n",
       "      <th></th>\n",
       "      <th>title</th>\n",
       "      <th>revenue</th>\n",
       "      <th>budget</th>\n",
       "      <th>genres</th>\n",
       "      <th>release_month</th>\n",
       "      <th>vote_average</th>\n",
       "      <th>award_noms</th>\n",
       "      <th>roi</th>\n",
       "    </tr>\n",
       "  </thead>\n",
       "  <tbody>\n",
       "    <tr>\n",
       "      <th>0</th>\n",
       "      <td>Camille Claudel 1915</td>\n",
       "      <td>115860</td>\n",
       "      <td>3512454</td>\n",
       "      <td>Drama</td>\n",
       "      <td>March</td>\n",
       "      <td>7.0</td>\n",
       "      <td>0</td>\n",
       "      <td>-0.967015</td>\n",
       "    </tr>\n",
       "    <tr>\n",
       "      <th>1</th>\n",
       "      <td>Black Gold</td>\n",
       "      <td>5446000</td>\n",
       "      <td>40000000</td>\n",
       "      <td>Adventure</td>\n",
       "      <td>December</td>\n",
       "      <td>5.9</td>\n",
       "      <td>0</td>\n",
       "      <td>-0.863850</td>\n",
       "    </tr>\n",
       "    <tr>\n",
       "      <th>2</th>\n",
       "      <td>Freedom Writers</td>\n",
       "      <td>41170784</td>\n",
       "      <td>21000000</td>\n",
       "      <td>Crime</td>\n",
       "      <td>January</td>\n",
       "      <td>7.6</td>\n",
       "      <td>0</td>\n",
       "      <td>0.960514</td>\n",
       "    </tr>\n",
       "    <tr>\n",
       "      <th>3</th>\n",
       "      <td>Code Name: The Cleaner</td>\n",
       "      <td>10337477</td>\n",
       "      <td>20000000</td>\n",
       "      <td>Action</td>\n",
       "      <td>January</td>\n",
       "      <td>4.7</td>\n",
       "      <td>0</td>\n",
       "      <td>-0.483126</td>\n",
       "    </tr>\n",
       "    <tr>\n",
       "      <th>4</th>\n",
       "      <td>Stomp the Yard</td>\n",
       "      <td>75511123</td>\n",
       "      <td>13000000</td>\n",
       "      <td>Drama</td>\n",
       "      <td>May</td>\n",
       "      <td>6.1</td>\n",
       "      <td>0</td>\n",
       "      <td>4.808548</td>\n",
       "    </tr>\n",
       "  </tbody>\n",
       "</table>\n",
       "</div>"
      ],
      "text/plain": [
       "                    title   revenue    budget     genres release_month  \\\n",
       "0    Camille Claudel 1915    115860   3512454      Drama         March   \n",
       "1              Black Gold   5446000  40000000  Adventure      December   \n",
       "2         Freedom Writers  41170784  21000000      Crime       January   \n",
       "3  Code Name: The Cleaner  10337477  20000000     Action       January   \n",
       "4          Stomp the Yard  75511123  13000000      Drama           May   \n",
       "\n",
       "   vote_average  award_noms       roi  \n",
       "0           7.0           0 -0.967015  \n",
       "1           5.9           0 -0.863850  \n",
       "2           7.6           0  0.960514  \n",
       "3           4.7           0 -0.483126  \n",
       "4           6.1           0  4.808548  "
      ]
     },
     "execution_count": 3,
     "metadata": {},
     "output_type": "execute_result"
    }
   ],
   "source": [
    "movdat = moviedata[['title','revenue','budget','genres','release_month','vote_average','award_noms']]\n",
    "roi = pd.DataFrame((movdat['revenue']/movdat['budget']-1),columns=['roi'])\n",
    "movdat_df = pd.merge(movdat,roi, how='outer',left_index=True,right_index=True)\n",
    "movdat_df.head()"
   ]
  },
  {
   "cell_type": "code",
   "execution_count": 32,
   "metadata": {},
   "outputs": [
    {
     "data": {
      "text/plain": [
       "Drama              556\n",
       "Comedy             431\n",
       "Action             409\n",
       "Adventure          151\n",
       "Horror             127\n",
       "Thriller           113\n",
       "Crime               97\n",
       "Animation           78\n",
       "Romance             56\n",
       "Fantasy             51\n",
       "Science Fiction     42\n",
       "Family              29\n",
       "Mystery             28\n",
       "Documentary         23\n",
       "War                 19\n",
       "History             17\n",
       "Music                7\n",
       "Western              5\n",
       "Foreign              3\n",
       "Name: genres, dtype: int64"
      ]
     },
     "execution_count": 32,
     "metadata": {},
     "output_type": "execute_result"
    }
   ],
   "source": [
    "movdat_df['genres'].value_counts()"
   ]
  },
  {
   "cell_type": "code",
   "execution_count": 12,
   "metadata": {},
   "outputs": [
    {
     "data": {
      "text/html": [
       "<div>\n",
       "<style scoped>\n",
       "    .dataframe tbody tr th:only-of-type {\n",
       "        vertical-align: middle;\n",
       "    }\n",
       "\n",
       "    .dataframe tbody tr th {\n",
       "        vertical-align: top;\n",
       "    }\n",
       "\n",
       "    .dataframe thead th {\n",
       "        text-align: right;\n",
       "    }\n",
       "</style>\n",
       "<table border=\"1\" class=\"dataframe\">\n",
       "  <thead>\n",
       "    <tr style=\"text-align: right;\">\n",
       "      <th></th>\n",
       "      <th>genres</th>\n",
       "      <th>revenue</th>\n",
       "      <th>budget</th>\n",
       "      <th>award_noms</th>\n",
       "      <th>roi</th>\n",
       "      <th>vote_average</th>\n",
       "    </tr>\n",
       "  </thead>\n",
       "  <tbody>\n",
       "    <tr>\n",
       "      <th>0</th>\n",
       "      <td>Action</td>\n",
       "      <td>75043861342</td>\n",
       "      <td>24686812673</td>\n",
       "      <td>45</td>\n",
       "      <td>2.039836</td>\n",
       "      <td>6.115159</td>\n",
       "    </tr>\n",
       "    <tr>\n",
       "      <th>1</th>\n",
       "      <td>Adventure</td>\n",
       "      <td>38384582208</td>\n",
       "      <td>13505729594</td>\n",
       "      <td>32</td>\n",
       "      <td>1.842096</td>\n",
       "      <td>6.279470</td>\n",
       "    </tr>\n",
       "    <tr>\n",
       "      <th>3</th>\n",
       "      <td>Comedy</td>\n",
       "      <td>30569734424</td>\n",
       "      <td>10457845667</td>\n",
       "      <td>42</td>\n",
       "      <td>1.923139</td>\n",
       "      <td>5.981671</td>\n",
       "    </tr>\n",
       "    <tr>\n",
       "      <th>6</th>\n",
       "      <td>Drama</td>\n",
       "      <td>28356420918</td>\n",
       "      <td>10693547761</td>\n",
       "      <td>247</td>\n",
       "      <td>1.651732</td>\n",
       "      <td>6.545324</td>\n",
       "    </tr>\n",
       "    <tr>\n",
       "      <th>2</th>\n",
       "      <td>Animation</td>\n",
       "      <td>24190848980</td>\n",
       "      <td>6672784588</td>\n",
       "      <td>21</td>\n",
       "      <td>2.625300</td>\n",
       "      <td>6.478205</td>\n",
       "    </tr>\n",
       "    <tr>\n",
       "      <th>15</th>\n",
       "      <td>Science Fiction</td>\n",
       "      <td>11274598085</td>\n",
       "      <td>3161420003</td>\n",
       "      <td>14</td>\n",
       "      <td>2.566308</td>\n",
       "      <td>6.364286</td>\n",
       "    </tr>\n",
       "  </tbody>\n",
       "</table>\n",
       "</div>"
      ],
      "text/plain": [
       "             genres      revenue       budget  award_noms       roi  \\\n",
       "0            Action  75043861342  24686812673          45  2.039836   \n",
       "1         Adventure  38384582208  13505729594          32  1.842096   \n",
       "3            Comedy  30569734424  10457845667          42  1.923139   \n",
       "6             Drama  28356420918  10693547761         247  1.651732   \n",
       "2         Animation  24190848980   6672784588          21  2.625300   \n",
       "15  Science Fiction  11274598085   3161420003          14  2.566308   \n",
       "\n",
       "    vote_average  \n",
       "0       6.115159  \n",
       "1       6.279470  \n",
       "3       5.981671  \n",
       "6       6.545324  \n",
       "2       6.478205  \n",
       "15      6.364286  "
      ]
     },
     "execution_count": 12,
     "metadata": {},
     "output_type": "execute_result"
    }
   ],
   "source": [
    "g = movdat_df.groupby('genres').sum()\n",
    "g = g.drop(columns=['vote_average', 'roi'])\n",
    "groi = pd.DataFrame((g['revenue']/g['budget']-1),columns=['roi'])\n",
    "g = pd.merge(g,groi, how='outer',left_index=True,right_index=True)\n",
    "g = g.reset_index()\n",
    "g2 = movdat_df.groupby('genres').mean()\n",
    "g2 = g2.drop(columns=['budget', 'revenue','award_noms','roi'])\n",
    "g2 = g2.reset_index()\n",
    "g3 = pd.merge(g,g2)\n",
    "g3 = g3.sort_values(['revenue'], ascending=False)\n",
    "g3.head(6) \n"
   ]
  },
  {
   "cell_type": "code",
   "execution_count": 37,
   "metadata": {},
   "outputs": [
    {
     "data": {
      "text/plain": [
       "257404723585"
      ]
     },
     "execution_count": 37,
     "metadata": {},
     "output_type": "execute_result"
    }
   ],
   "source": [
    "tr = g3['revenue'].sum()\n",
    "tr"
   ]
  },
  {
   "cell_type": "code",
   "execution_count": 52,
   "metadata": {},
   "outputs": [
    {
     "data": {
      "text/html": [
       "<style  type=\"text/css\" >\n",
       "</style>  \n",
       "<table id=\"T_26156c5c_3a83_11e8_934d_3ca067dc5c7c\" > \n",
       "<thead>    <tr> \n",
       "        <th class=\"blank level0\" ></th> \n",
       "        <th class=\"col_heading level0 col0\" >% of Revenue</th> \n",
       "    </tr></thead> \n",
       "<tbody>    <tr> \n",
       "        <th id=\"T_26156c5c_3a83_11e8_934d_3ca067dc5c7clevel0_row0\" class=\"row_heading level0 row0\" >0</th> \n",
       "        <td id=\"T_26156c5c_3a83_11e8_934d_3ca067dc5c7crow0_col0\" class=\"data row0 col0\" >29.15%</td> \n",
       "    </tr>    <tr> \n",
       "        <th id=\"T_26156c5c_3a83_11e8_934d_3ca067dc5c7clevel0_row1\" class=\"row_heading level0 row1\" >1</th> \n",
       "        <td id=\"T_26156c5c_3a83_11e8_934d_3ca067dc5c7crow1_col0\" class=\"data row1 col0\" >14.91%</td> \n",
       "    </tr>    <tr> \n",
       "        <th id=\"T_26156c5c_3a83_11e8_934d_3ca067dc5c7clevel0_row2\" class=\"row_heading level0 row2\" >2</th> \n",
       "        <td id=\"T_26156c5c_3a83_11e8_934d_3ca067dc5c7crow2_col0\" class=\"data row2 col0\" >11.88%</td> \n",
       "    </tr>    <tr> \n",
       "        <th id=\"T_26156c5c_3a83_11e8_934d_3ca067dc5c7clevel0_row3\" class=\"row_heading level0 row3\" >3</th> \n",
       "        <td id=\"T_26156c5c_3a83_11e8_934d_3ca067dc5c7crow3_col0\" class=\"data row3 col0\" >11.02%</td> \n",
       "    </tr>    <tr> \n",
       "        <th id=\"T_26156c5c_3a83_11e8_934d_3ca067dc5c7clevel0_row4\" class=\"row_heading level0 row4\" >4</th> \n",
       "        <td id=\"T_26156c5c_3a83_11e8_934d_3ca067dc5c7crow4_col0\" class=\"data row4 col0\" >9.40%</td> \n",
       "    </tr>    <tr> \n",
       "        <th id=\"T_26156c5c_3a83_11e8_934d_3ca067dc5c7clevel0_row5\" class=\"row_heading level0 row5\" >5</th> \n",
       "        <td id=\"T_26156c5c_3a83_11e8_934d_3ca067dc5c7crow5_col0\" class=\"data row5 col0\" >4.38%</td> \n",
       "    </tr></tbody> \n",
       "</table> "
      ],
      "text/plain": [
       "<pandas.io.formats.style.Styler at 0x1d7a3bba438>"
      ]
     },
     "execution_count": 52,
     "metadata": {},
     "output_type": "execute_result"
    }
   ],
   "source": [
    "acr = g3.loc[0,'revenue']/tr\n",
    "adr = g3.loc[1,'revenue']/tr\n",
    "cmr = g3.loc[3,'revenue']/tr\n",
    "drr = g3.loc[6,'revenue']/tr\n",
    "anr = g3.loc[2,'revenue']/tr\n",
    "scr = g3.loc[15,'revenue']/tr\n",
    "#values for chart\n",
    "\n",
    "rev_genre = pd.DataFrame([acr,adr,cmr,drr,anr,scr], columns=['% of Revenue']) \n",
    "\n",
    "rev_genre.style.format(\"{:.2%}\")"
   ]
  },
  {
   "cell_type": "code",
   "execution_count": null,
   "metadata": {},
   "outputs": [],
   "source": [
    "genrelabels = [\"Action\", \"Adventure\", \"Comedy\",\"Drama\",\"Animation\",\"Science Fiction\"]\n",
    "plt.pie(rev_genre, labels=genrelabels,\n",
    "        autopct=\"%1.1f%%\",startangle=60, shadow=True)"
   ]
  },
  {
   "cell_type": "code",
   "execution_count": 18,
   "metadata": {},
   "outputs": [
    {
     "data": {
      "text/html": [
       "<div>\n",
       "<style scoped>\n",
       "    .dataframe tbody tr th:only-of-type {\n",
       "        vertical-align: middle;\n",
       "    }\n",
       "\n",
       "    .dataframe tbody tr th {\n",
       "        vertical-align: top;\n",
       "    }\n",
       "\n",
       "    .dataframe thead th {\n",
       "        text-align: right;\n",
       "    }\n",
       "</style>\n",
       "<table border=\"1\" class=\"dataframe\">\n",
       "  <thead>\n",
       "    <tr style=\"text-align: right;\">\n",
       "      <th></th>\n",
       "      <th>revenue</th>\n",
       "      <th>budget</th>\n",
       "      <th>award_noms</th>\n",
       "      <th>roi</th>\n",
       "      <th>vote_average</th>\n",
       "    </tr>\n",
       "  </thead>\n",
       "  <tbody>\n",
       "    <tr>\n",
       "      <th>count</th>\n",
       "      <td>1.900000e+01</td>\n",
       "      <td>1.900000e+01</td>\n",
       "      <td>19.000000</td>\n",
       "      <td>19.000000</td>\n",
       "      <td>19.000000</td>\n",
       "    </tr>\n",
       "    <tr>\n",
       "      <th>mean</th>\n",
       "      <td>1.354762e+10</td>\n",
       "      <td>4.555464e+09</td>\n",
       "      <td>27.421053</td>\n",
       "      <td>2.064643</td>\n",
       "      <td>6.278701</td>\n",
       "    </tr>\n",
       "    <tr>\n",
       "      <th>std</th>\n",
       "      <td>1.890429e+10</td>\n",
       "      <td>6.330998e+09</td>\n",
       "      <td>55.010419</td>\n",
       "      <td>0.693380</td>\n",
       "      <td>0.380253</td>\n",
       "    </tr>\n",
       "    <tr>\n",
       "      <th>min</th>\n",
       "      <td>3.592951e+06</td>\n",
       "      <td>9.973610e+05</td>\n",
       "      <td>0.000000</td>\n",
       "      <td>0.968117</td>\n",
       "      <td>5.300000</td>\n",
       "    </tr>\n",
       "    <tr>\n",
       "      <th>25%</th>\n",
       "      <td>1.255198e+09</td>\n",
       "      <td>4.080561e+08</td>\n",
       "      <td>4.000000</td>\n",
       "      <td>1.602418</td>\n",
       "      <td>6.072094</td>\n",
       "    </tr>\n",
       "    <tr>\n",
       "      <th>50%</th>\n",
       "      <td>7.603743e+09</td>\n",
       "      <td>2.310643e+09</td>\n",
       "      <td>12.000000</td>\n",
       "      <td>1.923139</td>\n",
       "      <td>6.364286</td>\n",
       "    </tr>\n",
       "    <tr>\n",
       "      <th>75%</th>\n",
       "      <td>1.773272e+10</td>\n",
       "      <td>5.363862e+09</td>\n",
       "      <td>28.000000</td>\n",
       "      <td>2.584383</td>\n",
       "      <td>6.511764</td>\n",
       "    </tr>\n",
       "    <tr>\n",
       "      <th>max</th>\n",
       "      <td>7.504386e+10</td>\n",
       "      <td>2.468681e+10</td>\n",
       "      <td>247.000000</td>\n",
       "      <td>3.495328</td>\n",
       "      <td>6.900000</td>\n",
       "    </tr>\n",
       "  </tbody>\n",
       "</table>\n",
       "</div>"
      ],
      "text/plain": [
       "            revenue        budget  award_noms        roi  vote_average\n",
       "count  1.900000e+01  1.900000e+01   19.000000  19.000000     19.000000\n",
       "mean   1.354762e+10  4.555464e+09   27.421053   2.064643      6.278701\n",
       "std    1.890429e+10  6.330998e+09   55.010419   0.693380      0.380253\n",
       "min    3.592951e+06  9.973610e+05    0.000000   0.968117      5.300000\n",
       "25%    1.255198e+09  4.080561e+08    4.000000   1.602418      6.072094\n",
       "50%    7.603743e+09  2.310643e+09   12.000000   1.923139      6.364286\n",
       "75%    1.773272e+10  5.363862e+09   28.000000   2.584383      6.511764\n",
       "max    7.504386e+10  2.468681e+10  247.000000   3.495328      6.900000"
      ]
     },
     "execution_count": 18,
     "metadata": {},
     "output_type": "execute_result"
    }
   ],
   "source": [
    "g3.describe()"
   ]
  },
  {
   "cell_type": "code",
   "execution_count": 61,
   "metadata": {},
   "outputs": [
    {
     "data": {
      "image/png": "[encoded data removed]",
      "text/plain": [
       "<matplotlib.figure.Figure at 0x229b840db00>"
      ]
     },
     "metadata": {},
     "output_type": "display_data"
    }
   ],
   "source": [
    "plt.subplots(figsize=(10, 6))\n",
    "sns.set_color_codes(\"pastel\")\n",
    "sns.barplot(x=\"revenue\", y=\"genres\", data=g3,label=\"Revenue\", color=\"b\")\n",
    "sns.set_color_codes(\"muted\")\n",
    "sns.barplot(x=\"budget\", y=\"genres\", data=g3,label=\"Budget\", color=\"b\")\n",
    "plt.legend(ncol=2, loc=\"lower right\", frameon=True)\n",
    "plt.xlabel(\"Billion of Dollars($)\")\n",
    "plt.show()"
   ]
  },
  {
   "cell_type": "code",
   "execution_count": 33,
   "metadata": {},
   "outputs": [
    {
     "data": {
      "text/plain": [
       "September    298\n",
       "October      214\n",
       "August       189\n",
       "December     189\n",
       "February     178\n",
       "March        176\n",
       "May          174\n",
       "July         167\n",
       "April        166\n",
       "June         164\n",
       "November     164\n",
       "January      163\n",
       "Name: release_month, dtype: int64"
      ]
     },
     "execution_count": 33,
     "metadata": {},
     "output_type": "execute_result"
    }
   ],
   "source": [
    "movdat_df['release_month'].value_counts()"
   ]
  },
  {
   "cell_type": "code",
   "execution_count": 43,
   "metadata": {},
   "outputs": [
    {
     "data": {
      "text/html": [
       "<div>\n",
       "<style scoped>\n",
       "    .dataframe tbody tr th:only-of-type {\n",
       "        vertical-align: middle;\n",
       "    }\n",
       "\n",
       "    .dataframe tbody tr th {\n",
       "        vertical-align: top;\n",
       "    }\n",
       "\n",
       "    .dataframe thead th {\n",
       "        text-align: right;\n",
       "    }\n",
       "</style>\n",
       "<table border=\"1\" class=\"dataframe\">\n",
       "  <thead>\n",
       "    <tr style=\"text-align: right;\">\n",
       "      <th></th>\n",
       "      <th>release_month</th>\n",
       "      <th>revenue</th>\n",
       "      <th>budget</th>\n",
       "      <th>award_noms</th>\n",
       "      <th>roi</th>\n",
       "      <th>vote_average</th>\n",
       "    </tr>\n",
       "  </thead>\n",
       "  <tbody>\n",
       "    <tr>\n",
       "      <th>6</th>\n",
       "      <td>June</td>\n",
       "      <td>37458553218</td>\n",
       "      <td>10053027964</td>\n",
       "      <td>20</td>\n",
       "      <td>2.726097</td>\n",
       "      <td>6.260366</td>\n",
       "    </tr>\n",
       "    <tr>\n",
       "      <th>2</th>\n",
       "      <td>December</td>\n",
       "      <td>29682127801</td>\n",
       "      <td>9099080528</td>\n",
       "      <td>101</td>\n",
       "      <td>2.262102</td>\n",
       "      <td>6.338624</td>\n",
       "    </tr>\n",
       "    <tr>\n",
       "      <th>8</th>\n",
       "      <td>May</td>\n",
       "      <td>27325073348</td>\n",
       "      <td>9387618741</td>\n",
       "      <td>46</td>\n",
       "      <td>1.910757</td>\n",
       "      <td>6.370690</td>\n",
       "    </tr>\n",
       "    <tr>\n",
       "      <th>5</th>\n",
       "      <td>July</td>\n",
       "      <td>24704426548</td>\n",
       "      <td>8080515448</td>\n",
       "      <td>32</td>\n",
       "      <td>2.057283</td>\n",
       "      <td>6.220958</td>\n",
       "    </tr>\n",
       "    <tr>\n",
       "      <th>9</th>\n",
       "      <td>November</td>\n",
       "      <td>22418144562</td>\n",
       "      <td>7181503469</td>\n",
       "      <td>133</td>\n",
       "      <td>2.121651</td>\n",
       "      <td>6.453049</td>\n",
       "    </tr>\n",
       "    <tr>\n",
       "      <th>0</th>\n",
       "      <td>April</td>\n",
       "      <td>21329321356</td>\n",
       "      <td>6582837936</td>\n",
       "      <td>2</td>\n",
       "      <td>2.240141</td>\n",
       "      <td>6.118675</td>\n",
       "    </tr>\n",
       "    <tr>\n",
       "      <th>7</th>\n",
       "      <td>March</td>\n",
       "      <td>21226776059</td>\n",
       "      <td>7761220129</td>\n",
       "      <td>8</td>\n",
       "      <td>1.734979</td>\n",
       "      <td>6.186364</td>\n",
       "    </tr>\n",
       "    <tr>\n",
       "      <th>10</th>\n",
       "      <td>October</td>\n",
       "      <td>17881531302</td>\n",
       "      <td>6603895033</td>\n",
       "      <td>65</td>\n",
       "      <td>1.707725</td>\n",
       "      <td>6.295327</td>\n",
       "    </tr>\n",
       "    <tr>\n",
       "      <th>3</th>\n",
       "      <td>February</td>\n",
       "      <td>15577154469</td>\n",
       "      <td>5556232967</td>\n",
       "      <td>19</td>\n",
       "      <td>1.803546</td>\n",
       "      <td>6.177528</td>\n",
       "    </tr>\n",
       "    <tr>\n",
       "      <th>11</th>\n",
       "      <td>September</td>\n",
       "      <td>15265393820</td>\n",
       "      <td>6268147108</td>\n",
       "      <td>59</td>\n",
       "      <td>1.435392</td>\n",
       "      <td>6.244631</td>\n",
       "    </tr>\n",
       "    <tr>\n",
       "      <th>1</th>\n",
       "      <td>August</td>\n",
       "      <td>14567168524</td>\n",
       "      <td>5817958457</td>\n",
       "      <td>34</td>\n",
       "      <td>1.503828</td>\n",
       "      <td>6.116931</td>\n",
       "    </tr>\n",
       "    <tr>\n",
       "      <th>4</th>\n",
       "      <td>January</td>\n",
       "      <td>9969052578</td>\n",
       "      <td>4161771158</td>\n",
       "      <td>2</td>\n",
       "      <td>1.395387</td>\n",
       "      <td>5.943558</td>\n",
       "    </tr>\n",
       "  </tbody>\n",
       "</table>\n",
       "</div>"
      ],
      "text/plain": [
       "   release_month      revenue       budget  award_noms       roi  vote_average\n",
       "6           June  37458553218  10053027964          20  2.726097      6.260366\n",
       "2       December  29682127801   9099080528         101  2.262102      6.338624\n",
       "8            May  27325073348   9387618741          46  1.910757      6.370690\n",
       "5           July  24704426548   8080515448          32  2.057283      6.220958\n",
       "9       November  22418144562   7181503469         133  2.121651      6.453049\n",
       "0          April  21329321356   6582837936           2  2.240141      6.118675\n",
       "7          March  21226776059   7761220129           8  1.734979      6.186364\n",
       "10       October  17881531302   6603895033          65  1.707725      6.295327\n",
       "3       February  15577154469   5556232967          19  1.803546      6.177528\n",
       "11     September  15265393820   6268147108          59  1.435392      6.244631\n",
       "1         August  14567168524   5817958457          34  1.503828      6.116931\n",
       "4        January   9969052578   4161771158           2  1.395387      5.943558"
      ]
     },
     "execution_count": 43,
     "metadata": {},
     "output_type": "execute_result"
    }
   ],
   "source": [
    "mo = movdat_df.groupby('release_month').sum()\n",
    "mo = mo.drop(columns=['vote_average', 'roi'])\n",
    "moroi = pd.DataFrame((mo['revenue']/mo['budget']-1),columns=['roi'])\n",
    "mo = pd.merge(mo,moroi, how='outer',left_index=True,right_index=True)\n",
    "mo = mo.reset_index()\n",
    "mo2 = movdat_df.groupby('release_month').mean()\n",
    "mo2 = mo2.drop(columns=['budget', 'revenue','award_noms','roi'])\n",
    "mo2 = mo2.reset_index()\n",
    "mo3 = pd.merge(mo,mo2)\n",
    "mo3 = mo3.sort_values(['revenue'], ascending=False)\n",
    "mo3"
   ]
  },
  {
   "cell_type": "code",
   "execution_count": 60,
   "metadata": {},
   "outputs": [
    {
     "data": {
      "image/png": "[encoded data removed]",
      "text/plain": [
       "<matplotlib.figure.Figure at 0x229b8344be0>"
      ]
     },
     "metadata": {},
     "output_type": "display_data"
    }
   ],
   "source": [
    "plt.subplots(figsize=(10, 6))\n",
    "sns.set_color_codes(\"deep\")\n",
    "sns.barplot(x=\"revenue\", y=\"release_month\", data=mo3,label=\"Revenue\", color=\"g\")\n",
    "sns.set_color_codes(\"muted\")\n",
    "sns.barplot(x=\"budget\", y=\"release_month\", data=mo3,label=\"Budget\", color=\"g\")\n",
    "plt.legend(ncol=2, loc=\"lower right\", frameon=True)\n",
    "plt.xlabel(\"Billion of Dollars($)\")\n",
    "plt.show()"
   ]
  },
  {
   "cell_type": "code",
   "execution_count": 69,
   "metadata": {},
   "outputs": [
    {
     "data": {
      "text/html": [
       "<div>\n",
       "<style scoped>\n",
       "    .dataframe tbody tr th:only-of-type {\n",
       "        vertical-align: middle;\n",
       "    }\n",
       "\n",
       "    .dataframe tbody tr th {\n",
       "        vertical-align: top;\n",
       "    }\n",
       "\n",
       "    .dataframe thead th {\n",
       "        text-align: right;\n",
       "    }\n",
       "</style>\n",
       "<table border=\"1\" class=\"dataframe\">\n",
       "  <thead>\n",
       "    <tr style=\"text-align: right;\">\n",
       "      <th></th>\n",
       "      <th>revenue</th>\n",
       "      <th>budget</th>\n",
       "      <th>vote_average</th>\n",
       "      <th>award_noms</th>\n",
       "      <th>roi</th>\n",
       "    </tr>\n",
       "  </thead>\n",
       "  <tbody>\n",
       "    <tr>\n",
       "      <th>revenue</th>\n",
       "      <td>1.000000</td>\n",
       "      <td>0.783859</td>\n",
       "      <td>0.193535</td>\n",
       "      <td>0.197553</td>\n",
       "      <td>-0.006056</td>\n",
       "    </tr>\n",
       "    <tr>\n",
       "      <th>budget</th>\n",
       "      <td>0.783859</td>\n",
       "      <td>1.000000</td>\n",
       "      <td>0.074723</td>\n",
       "      <td>0.094426</td>\n",
       "      <td>-0.024073</td>\n",
       "    </tr>\n",
       "    <tr>\n",
       "      <th>vote_average</th>\n",
       "      <td>0.193535</td>\n",
       "      <td>0.074723</td>\n",
       "      <td>1.000000</td>\n",
       "      <td>0.245995</td>\n",
       "      <td>-0.027562</td>\n",
       "    </tr>\n",
       "    <tr>\n",
       "      <th>award_noms</th>\n",
       "      <td>0.197553</td>\n",
       "      <td>0.094426</td>\n",
       "      <td>0.245995</td>\n",
       "      <td>1.000000</td>\n",
       "      <td>-0.004273</td>\n",
       "    </tr>\n",
       "    <tr>\n",
       "      <th>roi</th>\n",
       "      <td>-0.006056</td>\n",
       "      <td>-0.024073</td>\n",
       "      <td>-0.027562</td>\n",
       "      <td>-0.004273</td>\n",
       "      <td>1.000000</td>\n",
       "    </tr>\n",
       "  </tbody>\n",
       "</table>\n",
       "</div>"
      ],
      "text/plain": [
       "               revenue    budget  vote_average  award_noms       roi\n",
       "revenue       1.000000  0.783859      0.193535    0.197553 -0.006056\n",
       "budget        0.783859  1.000000      0.074723    0.094426 -0.024073\n",
       "vote_average  0.193535  0.074723      1.000000    0.245995 -0.027562\n",
       "award_noms    0.197553  0.094426      0.245995    1.000000 -0.004273\n",
       "roi          -0.006056 -0.024073     -0.027562   -0.004273  1.000000"
      ]
     },
     "execution_count": 69,
     "metadata": {},
     "output_type": "execute_result"
    }
   ],
   "source": [
    "movdat_df.corr()"
   ]
  },
  {
   "cell_type": "code",
   "execution_count": 13,
   "metadata": {},
   "outputs": [
    {
     "data": {
      "text/html": [
       "<div>\n",
       "<style scoped>\n",
       "    .dataframe tbody tr th:only-of-type {\n",
       "        vertical-align: middle;\n",
       "    }\n",
       "\n",
       "    .dataframe tbody tr th {\n",
       "        vertical-align: top;\n",
       "    }\n",
       "\n",
       "    .dataframe thead th {\n",
       "        text-align: right;\n",
       "    }\n",
       "</style>\n",
       "<table border=\"1\" class=\"dataframe\">\n",
       "  <thead>\n",
       "    <tr style=\"text-align: right;\">\n",
       "      <th></th>\n",
       "      <th>revenue</th>\n",
       "      <th>budget</th>\n",
       "      <th>award_noms</th>\n",
       "      <th>roi</th>\n",
       "      <th>vote_average</th>\n",
       "    </tr>\n",
       "  </thead>\n",
       "  <tbody>\n",
       "    <tr>\n",
       "      <th>revenue</th>\n",
       "      <td>1.000000</td>\n",
       "      <td>0.994348</td>\n",
       "      <td>0.376329</td>\n",
       "      <td>-0.017470</td>\n",
       "      <td>-0.105804</td>\n",
       "    </tr>\n",
       "    <tr>\n",
       "      <th>budget</th>\n",
       "      <td>0.994348</td>\n",
       "      <td>1.000000</td>\n",
       "      <td>0.423200</td>\n",
       "      <td>-0.099370</td>\n",
       "      <td>-0.100747</td>\n",
       "    </tr>\n",
       "    <tr>\n",
       "      <th>award_noms</th>\n",
       "      <td>0.376329</td>\n",
       "      <td>0.423200</td>\n",
       "      <td>1.000000</td>\n",
       "      <td>-0.194001</td>\n",
       "      <td>0.171929</td>\n",
       "    </tr>\n",
       "    <tr>\n",
       "      <th>roi</th>\n",
       "      <td>-0.017470</td>\n",
       "      <td>-0.099370</td>\n",
       "      <td>-0.194001</td>\n",
       "      <td>1.000000</td>\n",
       "      <td>-0.258650</td>\n",
       "    </tr>\n",
       "    <tr>\n",
       "      <th>vote_average</th>\n",
       "      <td>-0.105804</td>\n",
       "      <td>-0.100747</td>\n",
       "      <td>0.171929</td>\n",
       "      <td>-0.258650</td>\n",
       "      <td>1.000000</td>\n",
       "    </tr>\n",
       "  </tbody>\n",
       "</table>\n",
       "</div>"
      ],
      "text/plain": [
       "               revenue    budget  award_noms       roi  vote_average\n",
       "revenue       1.000000  0.994348    0.376329 -0.017470     -0.105804\n",
       "budget        0.994348  1.000000    0.423200 -0.099370     -0.100747\n",
       "award_noms    0.376329  0.423200    1.000000 -0.194001      0.171929\n",
       "roi          -0.017470 -0.099370   -0.194001  1.000000     -0.258650\n",
       "vote_average -0.105804 -0.100747    0.171929 -0.258650      1.000000"
      ]
     },
     "execution_count": 13,
     "metadata": {},
     "output_type": "execute_result"
    }
   ],
   "source": [
    "g3.corr()"
   ]
  },
  {
   "cell_type": "code",
   "execution_count": 45,
   "metadata": {},
   "outputs": [
    {
     "data": {
      "text/html": [
       "<div>\n",
       "<style scoped>\n",
       "    .dataframe tbody tr th:only-of-type {\n",
       "        vertical-align: middle;\n",
       "    }\n",
       "\n",
       "    .dataframe tbody tr th {\n",
       "        vertical-align: top;\n",
       "    }\n",
       "\n",
       "    .dataframe thead th {\n",
       "        text-align: right;\n",
       "    }\n",
       "</style>\n",
       "<table border=\"1\" class=\"dataframe\">\n",
       "  <thead>\n",
       "    <tr style=\"text-align: right;\">\n",
       "      <th></th>\n",
       "      <th>revenue</th>\n",
       "      <th>budget</th>\n",
       "      <th>award_noms</th>\n",
       "      <th>roi</th>\n",
       "      <th>vote_average</th>\n",
       "    </tr>\n",
       "  </thead>\n",
       "  <tbody>\n",
       "    <tr>\n",
       "      <th>revenue</th>\n",
       "      <td>1.000000</td>\n",
       "      <td>0.958641</td>\n",
       "      <td>0.202686</td>\n",
       "      <td>0.901279</td>\n",
       "      <td>0.576018</td>\n",
       "    </tr>\n",
       "    <tr>\n",
       "      <th>budget</th>\n",
       "      <td>0.958641</td>\n",
       "      <td>1.000000</td>\n",
       "      <td>0.250427</td>\n",
       "      <td>0.757538</td>\n",
       "      <td>0.660786</td>\n",
       "    </tr>\n",
       "    <tr>\n",
       "      <th>award_noms</th>\n",
       "      <td>0.202686</td>\n",
       "      <td>0.250427</td>\n",
       "      <td>1.000000</td>\n",
       "      <td>0.153446</td>\n",
       "      <td>0.800369</td>\n",
       "    </tr>\n",
       "    <tr>\n",
       "      <th>roi</th>\n",
       "      <td>0.901279</td>\n",
       "      <td>0.757538</td>\n",
       "      <td>0.153446</td>\n",
       "      <td>1.000000</td>\n",
       "      <td>0.444587</td>\n",
       "    </tr>\n",
       "    <tr>\n",
       "      <th>vote_average</th>\n",
       "      <td>0.576018</td>\n",
       "      <td>0.660786</td>\n",
       "      <td>0.800369</td>\n",
       "      <td>0.444587</td>\n",
       "      <td>1.000000</td>\n",
       "    </tr>\n",
       "  </tbody>\n",
       "</table>\n",
       "</div>"
      ],
      "text/plain": [
       "               revenue    budget  award_noms       roi  vote_average\n",
       "revenue       1.000000  0.958641    0.202686  0.901279      0.576018\n",
       "budget        0.958641  1.000000    0.250427  0.757538      0.660786\n",
       "award_noms    0.202686  0.250427    1.000000  0.153446      0.800369\n",
       "roi           0.901279  0.757538    0.153446  1.000000      0.444587\n",
       "vote_average  0.576018  0.660786    0.800369  0.444587      1.000000"
      ]
     },
     "execution_count": 45,
     "metadata": {},
     "output_type": "execute_result"
    }
   ],
   "source": [
    "mo3.corr()"
   ]
  },
  {
   "cell_type": "code",
   "execution_count": 70,
   "metadata": {},
   "outputs": [
    {
     "data": {
      "text/plain": [
       "<matplotlib.axes._subplots.AxesSubplot at 0x229b86db0b8>"
      ]
     },
     "execution_count": 70,
     "metadata": {},
     "output_type": "execute_result"
    },
    {
     "data": {
      "image/png": "[encoded data removed]",
      "text/plain": [
       "<matplotlib.figure.Figure at 0x229b867dba8>"
      ]
     },
     "metadata": {},
     "output_type": "display_data"
    }
   ],
   "source": [
    "cmap = sns.diverging_palette(220, 10, as_cmap=True)\n",
    "plt.subplots(figsize=(10, 6))\n",
    "sns.heatmap(movdat_df.corr(),cmap=cmap,vmin=-0.5, center=0)"
   ]
  },
  {
   "cell_type": "code",
   "execution_count": 50,
   "metadata": {},
   "outputs": [
    {
     "data": {
      "text/plain": [
       "<seaborn.axisgrid.JointGrid at 0x229b6e76710>"
      ]
     },
     "execution_count": 50,
     "metadata": {},
     "output_type": "execute_result"
    },
    {
     "data": {
      "image/png": "[encoded data removed]",
      "text/plain": [
       "<matplotlib.figure.Figure at 0x229b6e76da0>"
      ]
     },
     "metadata": {},
     "output_type": "display_data"
    }
   ],
   "source": [
    "sns.jointplot('budget','revenue',data=movdat_df,kind=\"reg\")\n"
   ]
  },
  {
   "cell_type": "code",
   "execution_count": 52,
   "metadata": {},
   "outputs": [
    {
     "data": {
      "text/plain": [
       "<seaborn.axisgrid.JointGrid at 0x229b46826a0>"
      ]
     },
     "execution_count": 52,
     "metadata": {},
     "output_type": "execute_result"
    },
    {
     "data": {
      "image/png": "[encoded data removed]",
      "text/plain": [
       "<matplotlib.figure.Figure at 0x229b52c5748>"
      ]
     },
     "metadata": {},
     "output_type": "display_data"
    }
   ],
   "source": [
    "sns.jointplot('vote_average','revenue',data=movdat_df,kind=\"reg\")"
   ]
  },
  {
   "cell_type": "code",
   "execution_count": 51,
   "metadata": {},
   "outputs": [
    {
     "data": {
      "text/plain": [
       "<seaborn.axisgrid.JointGrid at 0x229b6ec4b38>"
      ]
     },
     "execution_count": 51,
     "metadata": {},
     "output_type": "execute_result"
    },
    {
     "data": {
      "image/png": "[encoded data removed]",
      "text/plain": [
       "<matplotlib.figure.Figure at 0x229b6ec42e8>"
      ]
     },
     "metadata": {},
     "output_type": "display_data"
    }
   ],
   "source": [
    "sns.jointplot('award_noms','revenue',data=movdat_df,kind=\"reg\")"
   ]
  },
  {
   "cell_type": "code",
   "execution_count": 53,
   "metadata": {},
   "outputs": [
    {
     "data": {
      "text/plain": [
       "<seaborn.axisgrid.JointGrid at 0x229b69a8b38>"
      ]
     },
     "execution_count": 53,
     "metadata": {},
     "output_type": "execute_result"
    },
    {
     "data": {
      "image/png": "[encoded data removed]",
      "text/plain": [
       "<matplotlib.figure.Figure at 0x229b69a8c18>"
      ]
     },
     "metadata": {},
     "output_type": "display_data"
    }
   ],
   "source": [
    "sns.jointplot('roi','revenue',data=movdat_df,kind=\"reg\")"
   ]
  },
  {
   "cell_type": "code",
   "execution_count": 34,
   "metadata": {},
   "outputs": [
    {
     "data": {
      "text/plain": [
       "<matplotlib.axes._subplots.AxesSubplot at 0x229b6aa9f60>"
      ]
     },
     "execution_count": 34,
     "metadata": {},
     "output_type": "execute_result"
    },
    {
     "data": {
      "image/png": "[encoded data removed]",
      "text/plain": [
       "<matplotlib.figure.Figure at 0x229b6c06ba8>"
      ]
     },
     "metadata": {},
     "output_type": "display_data"
    }
   ],
   "source": [
    "sns.distplot(movdat_df['budget'])"
   ]
  },
  {
   "cell_type": "code",
   "execution_count": null,
   "metadata": {},
   "outputs": [],
   "source": []
  }
 ],
 "metadata": {
  "kernelspec": {
   "display_name": "Python 3",
   "language": "python",
   "name": "python3"
  },
  "language_info": {
   "codemirror_mode": {
    "name": "ipython",
    "version": 3
   },
   "file_extension": ".py",
   "mimetype": "text/x-python",
   "name": "python",
   "nbconvert_exporter": "python",
   "pygments_lexer": "ipython3",
   "version": "3.6.4"
  }
 },
 "nbformat": 4,
 "nbformat_minor": 2
}
