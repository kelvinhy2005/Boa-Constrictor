{
 "cells": [
  {
   "cell_type": "code",
   "execution_count": 10,
   "metadata": {},
   "outputs": [
    {
     "data": {
      "text/plain": [
       "Title                 1600\n",
       "Movie ID              1600\n",
       "Genre                 1578\n",
       "Production Company    1539\n",
       "Budget                1600\n",
       "Revenue               1600\n",
       "Overview              1590\n",
       "Release Date          1600\n",
       "dtype: int64"
      ]
     },
     "execution_count": 10,
     "metadata": {},
     "output_type": "execute_result"
    }
   ],
   "source": [
    "import pandas as pd\n",
    "import numpy\n",
    "import matplotlib.pyplot as plt\n",
    "import os\n",
    "import csv\n",
    "\n",
    "csv = os.path.join('santhosh.csv')\n",
    "movie_df = pd.read_csv(csv,encoding='latin-1')\n",
    "movie_df.count()"
   ]
  },
  {
   "cell_type": "code",
   "execution_count": 15,
   "metadata": {},
   "outputs": [
    {
     "data": {
      "text/html": [
       "<div>\n",
       "<style scoped>\n",
       "    .dataframe tbody tr th:only-of-type {\n",
       "        vertical-align: middle;\n",
       "    }\n",
       "\n",
       "    .dataframe tbody tr th {\n",
       "        vertical-align: top;\n",
       "    }\n",
       "\n",
       "    .dataframe thead th {\n",
       "        text-align: right;\n",
       "    }\n",
       "</style>\n",
       "<table border=\"1\" class=\"dataframe\">\n",
       "  <thead>\n",
       "    <tr style=\"text-align: right;\">\n",
       "      <th></th>\n",
       "      <th>Title</th>\n",
       "      <th>Movie ID</th>\n",
       "      <th>Genre</th>\n",
       "      <th>Production Company</th>\n",
       "      <th>Budget</th>\n",
       "      <th>Revenue</th>\n",
       "      <th>Overview</th>\n",
       "      <th>Release Date</th>\n",
       "      <th>ROI</th>\n",
       "    </tr>\n",
       "  </thead>\n",
       "  <tbody>\n",
       "    <tr>\n",
       "      <th>0</th>\n",
       "      <td>Pirates of the Caribbean: At World's End</td>\n",
       "      <td>285.0</td>\n",
       "      <td>Adventure</td>\n",
       "      <td>Jerry Bruckheimer Films</td>\n",
       "      <td>300000000.0</td>\n",
       "      <td>961000000.0</td>\n",
       "      <td>Captain Barbossa, long believed to be dead, ha...</td>\n",
       "      <td>2007-05-19</td>\n",
       "      <td>2.20</td>\n",
       "    </tr>\n",
       "    <tr>\n",
       "      <th>1</th>\n",
       "      <td>Harry Potter and the Order of the Phoenix</td>\n",
       "      <td>675.0</td>\n",
       "      <td>Adventure</td>\n",
       "      <td>Warner Bros. Pictures</td>\n",
       "      <td>150000000.0</td>\n",
       "      <td>938212738.0</td>\n",
       "      <td>Returning for his fifth year of study at Hogwa...</td>\n",
       "      <td>2007-06-28</td>\n",
       "      <td>5.25</td>\n",
       "    </tr>\n",
       "    <tr>\n",
       "      <th>2</th>\n",
       "      <td>Spider-Man 3</td>\n",
       "      <td>559.0</td>\n",
       "      <td>Fantasy</td>\n",
       "      <td>Marvel Enterprises</td>\n",
       "      <td>258000000.0</td>\n",
       "      <td>890871626.0</td>\n",
       "      <td>The seemingly invincible Spider-Man goes up ag...</td>\n",
       "      <td>2007-05-01</td>\n",
       "      <td>2.45</td>\n",
       "    </tr>\n",
       "    <tr>\n",
       "      <th>5</th>\n",
       "      <td>Live Free or Die Hard</td>\n",
       "      <td>1571.0</td>\n",
       "      <td>Action</td>\n",
       "      <td>Dune Entertainment</td>\n",
       "      <td>110000000.0</td>\n",
       "      <td>383531464.0</td>\n",
       "      <td>John McClane is back and badder than ever, and...</td>\n",
       "      <td>2007-06-20</td>\n",
       "      <td>2.49</td>\n",
       "    </tr>\n",
       "    <tr>\n",
       "      <th>6</th>\n",
       "      <td>Zodiac</td>\n",
       "      <td>1949.0</td>\n",
       "      <td>Crime</td>\n",
       "      <td>Paramount</td>\n",
       "      <td>65000000.0</td>\n",
       "      <td>84785914.0</td>\n",
       "      <td>The true story of the investigation of the \"Zo...</td>\n",
       "      <td>2007-03-02</td>\n",
       "      <td>0.30</td>\n",
       "    </tr>\n",
       "  </tbody>\n",
       "</table>\n",
       "</div>"
      ],
      "text/plain": [
       "                                       Title  Movie ID      Genre  \\\n",
       "0   Pirates of the Caribbean: At World's End     285.0  Adventure   \n",
       "1  Harry Potter and the Order of the Phoenix     675.0  Adventure   \n",
       "2                               Spider-Man 3     559.0    Fantasy   \n",
       "5                      Live Free or Die Hard    1571.0     Action   \n",
       "6                                     Zodiac    1949.0      Crime   \n",
       "\n",
       "        Production Company       Budget      Revenue  \\\n",
       "0  Jerry Bruckheimer Films  300000000.0  961000000.0   \n",
       "1    Warner Bros. Pictures  150000000.0  938212738.0   \n",
       "2       Marvel Enterprises  258000000.0  890871626.0   \n",
       "5       Dune Entertainment  110000000.0  383531464.0   \n",
       "6                Paramount   65000000.0   84785914.0   \n",
       "\n",
       "                                            Overview Release Date   ROI  \n",
       "0  Captain Barbossa, long believed to be dead, ha...   2007-05-19  2.20  \n",
       "1  Returning for his fifth year of study at Hogwa...   2007-06-28  5.25  \n",
       "2  The seemingly invincible Spider-Man goes up ag...   2007-05-01  2.45  \n",
       "5  John McClane is back and badder than ever, and...   2007-06-20  2.49  \n",
       "6  The true story of the investigation of the \"Zo...   2007-03-02  0.30  "
      ]
     },
     "execution_count": 15,
     "metadata": {},
     "output_type": "execute_result"
    }
   ],
   "source": [
    "#Dropping rows with 0s\n",
    "movie_df = movie_df[movie_df.Budget!=0]\n",
    "movie_df = movie_df[movie_df.Revenue!=0]\n",
    "movie_df.head()"
   ]
  },
  {
   "cell_type": "code",
   "execution_count": null,
   "metadata": {},
   "outputs": [],
   "source": [
    "\n"
   ]
  },
  {
   "cell_type": "code",
   "execution_count": null,
   "metadata": {},
   "outputs": [],
   "source": []
  },
  {
   "cell_type": "code",
   "execution_count": 27,
   "metadata": {},
   "outputs": [
    {
     "data": {
      "text/html": [
       "<div>\n",
       "<style scoped>\n",
       "    .dataframe tbody tr th:only-of-type {\n",
       "        vertical-align: middle;\n",
       "    }\n",
       "\n",
       "    .dataframe tbody tr th {\n",
       "        vertical-align: top;\n",
       "    }\n",
       "\n",
       "    .dataframe thead th {\n",
       "        text-align: right;\n",
       "    }\n",
       "</style>\n",
       "<table border=\"1\" class=\"dataframe\">\n",
       "  <thead>\n",
       "    <tr style=\"text-align: right;\">\n",
       "      <th></th>\n",
       "      <th>Production Company</th>\n",
       "      <th>Movie ID</th>\n",
       "      <th>Budget</th>\n",
       "      <th>Revenue</th>\n",
       "      <th>ROI</th>\n",
       "    </tr>\n",
       "  </thead>\n",
       "  <tbody>\n",
       "    <tr>\n",
       "      <th>0</th>\n",
       "      <td>Monkeypaw Productions</td>\n",
       "      <td>419430.0</td>\n",
       "      <td>4500000.0</td>\n",
       "      <td>255017329.0</td>\n",
       "      <td>55.67</td>\n",
       "    </tr>\n",
       "    <tr>\n",
       "      <th>1</th>\n",
       "      <td>Stage 6 Films</td>\n",
       "      <td>35919.5</td>\n",
       "      <td>4750000.0</td>\n",
       "      <td>53819235.5</td>\n",
       "      <td>32.00</td>\n",
       "    </tr>\n",
       "    <tr>\n",
       "      <th>2</th>\n",
       "      <td>Ada Films</td>\n",
       "      <td>84355.0</td>\n",
       "      <td>125000.0</td>\n",
       "      <td>3200000.0</td>\n",
       "      <td>24.60</td>\n",
       "    </tr>\n",
       "    <tr>\n",
       "      <th>3</th>\n",
       "      <td>Vesuvius Productions</td>\n",
       "      <td>440021.0</td>\n",
       "      <td>4800000.0</td>\n",
       "      <td>117883845.0</td>\n",
       "      <td>23.56</td>\n",
       "    </tr>\n",
       "    <tr>\n",
       "      <th>4</th>\n",
       "      <td>White Noise Factory</td>\n",
       "      <td>242512.0</td>\n",
       "      <td>5000000.0</td>\n",
       "      <td>103590271.0</td>\n",
       "      <td>19.72</td>\n",
       "    </tr>\n",
       "  </tbody>\n",
       "</table>\n",
       "</div>"
      ],
      "text/plain": [
       "      Production Company  Movie ID     Budget      Revenue    ROI\n",
       "0  Monkeypaw Productions  419430.0  4500000.0  255017329.0  55.67\n",
       "1          Stage 6 Films   35919.5  4750000.0   53819235.5  32.00\n",
       "2              Ada Films   84355.0   125000.0    3200000.0  24.60\n",
       "3   Vesuvius Productions  440021.0  4800000.0  117883845.0  23.56\n",
       "4    White Noise Factory  242512.0  5000000.0  103590271.0  19.72"
      ]
     },
     "execution_count": 27,
     "metadata": {},
     "output_type": "execute_result"
    }
   ],
   "source": [
    "#Grouping dataframe by production company any by mean to get Avg. ROI\n",
    "movie_df_mean=movie_df.groupby(['Production Company']).mean()\n",
    "movie_df_mean=movie_df_mean.sort_values(['ROI'],ascending = False)\n",
    "movie_df_mean=movie_df_mean[movie_df_mean.ROI <60]\n",
    "movie_df_mean = movie_df_mean.reset_index()\n",
    "movie_df_mean.head()"
   ]
  },
  {
   "cell_type": "code",
   "execution_count": 28,
   "metadata": {},
   "outputs": [
    {
     "data": {
      "text/plain": [
       "Text(0.5,1,'Top 10 Production Company with Leading Average ROI')"
      ]
     },
     "execution_count": 28,
     "metadata": {},
     "output_type": "execute_result"
    },
    {
     "data": {
      "image/png": "[encoded data removed]",
      "text/plain": [
       "<matplotlib.figure.Figure at 0x25a28ee6b00>"
      ]
     },
     "metadata": {},
     "output_type": "display_data"
    }
   ],
   "source": [
    "#Plot bargraph using the top 10 production company (measuring efficiency of each production company)\n",
    "x_axis = movie_df_mean['Production Company'][0:10]\n",
    "y_axis = movie_df_mean['ROI'][0:10]\n",
    "plt.barh(x_axis,y_axis,color = 'blue')\n",
    "plt.xlabel(\"Avg. ROI\")\n",
    "plt.title(\"Top 10 Production Company with Leading Average ROI\")\n"
   ]
  },
  {
   "cell_type": "code",
   "execution_count": null,
   "metadata": {},
   "outputs": [],
   "source": []
  },
  {
   "cell_type": "code",
   "execution_count": null,
   "metadata": {},
   "outputs": [],
   "source": []
  }
 ],
 "metadata": {
  "kernelspec": {
   "display_name": "Python 3",
   "language": "python",
   "name": "python3"
  },
  "language_info": {
   "codemirror_mode": {
    "name": "ipython",
    "version": 3
   },
   "file_extension": ".py",
   "mimetype": "text/x-python",
   "name": "python",
   "nbconvert_exporter": "python",
   "pygments_lexer": "ipython3",
   "version": "3.6.4"
  }
 },
 "nbformat": 4,
 "nbformat_minor": 2
}
