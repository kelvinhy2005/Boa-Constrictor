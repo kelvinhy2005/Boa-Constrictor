{
 "cells": [
  {
   "cell_type": "code",
   "execution_count": 1,
   "metadata": {},
   "outputs": [],
   "source": [
    "import pandas as pd\n",
    "import numpy as np\n",
    "import matplotlib.pyplot as plt\n",
    "from scipy import stats, integrate\n",
    "import seaborn as sns"
   ]
  },
  {
   "cell_type": "code",
   "execution_count": 2,
   "metadata": {},
   "outputs": [],
   "source": [
    "moviedata = pd.read_csv(\"movies_data.csv\")"
   ]
  },
  {
   "cell_type": "code",
   "execution_count": 3,
   "metadata": {},
   "outputs": [
    {
     "data": {
      "text/plain": [
       "(2242, 11)"
      ]
     },
     "execution_count": 3,
     "metadata": {},
     "output_type": "execute_result"
    }
   ],
   "source": [
    "moviedata.shape"
   ]
  },
  {
   "cell_type": "code",
   "execution_count": 4,
   "metadata": {},
   "outputs": [
    {
     "data": {
      "text/plain": [
       "Index(['budget', 'genres', 'id', 'production_companies', 'release_date',\n",
       "       'release_month', 'revenue', 'tagline', 'title', 'vote_average',\n",
       "       'award_noms'],\n",
       "      dtype='object')"
      ]
     },
     "execution_count": 4,
     "metadata": {},
     "output_type": "execute_result"
    }
   ],
   "source": [
    "moviedata.columns"
   ]
  },
  {
   "cell_type": "code",
   "execution_count": 5,
   "metadata": {},
   "outputs": [
    {
     "data": {
      "text/html": [
       "<div>\n",
       "<style scoped>\n",
       "    .dataframe tbody tr th:only-of-type {\n",
       "        vertical-align: middle;\n",
       "    }\n",
       "\n",
       "    .dataframe tbody tr th {\n",
       "        vertical-align: top;\n",
       "    }\n",
       "\n",
       "    .dataframe thead th {\n",
       "        text-align: right;\n",
       "    }\n",
       "</style>\n",
       "<table border=\"1\" class=\"dataframe\">\n",
       "  <thead>\n",
       "    <tr style=\"text-align: right;\">\n",
       "      <th></th>\n",
       "      <th>budget</th>\n",
       "      <th>genres</th>\n",
       "      <th>id</th>\n",
       "      <th>production_companies</th>\n",
       "      <th>release_date</th>\n",
       "      <th>release_month</th>\n",
       "      <th>revenue</th>\n",
       "      <th>tagline</th>\n",
       "      <th>title</th>\n",
       "      <th>vote_average</th>\n",
       "      <th>award_noms</th>\n",
       "    </tr>\n",
       "  </thead>\n",
       "  <tbody>\n",
       "    <tr>\n",
       "      <th>0</th>\n",
       "      <td>3512454</td>\n",
       "      <td>Drama</td>\n",
       "      <td>110428</td>\n",
       "      <td>[{'name': 'Canal+', 'id': 5358}, {'name': 'Art...</td>\n",
       "      <td>3/13/2013</td>\n",
       "      <td>March</td>\n",
       "      <td>115860</td>\n",
       "      <td>NaN</td>\n",
       "      <td>Camille Claudel 1915</td>\n",
       "      <td>7.0</td>\n",
       "      <td>0</td>\n",
       "    </tr>\n",
       "    <tr>\n",
       "      <th>1</th>\n",
       "      <td>40000000</td>\n",
       "      <td>Adventure</td>\n",
       "      <td>77221</td>\n",
       "      <td>[{'name': 'France 2 CinÃ©ma', 'id': 83}, {'nam...</td>\n",
       "      <td>12/21/2011</td>\n",
       "      <td>December</td>\n",
       "      <td>5446000</td>\n",
       "      <td>NaN</td>\n",
       "      <td>Black Gold</td>\n",
       "      <td>5.9</td>\n",
       "      <td>0</td>\n",
       "    </tr>\n",
       "    <tr>\n",
       "      <th>2</th>\n",
       "      <td>21000000</td>\n",
       "      <td>Crime</td>\n",
       "      <td>1646</td>\n",
       "      <td>[{'name': 'Double Feature Films', 'id': 215}, ...</td>\n",
       "      <td>1/5/2007</td>\n",
       "      <td>January</td>\n",
       "      <td>41170784</td>\n",
       "      <td>Their story. Their world. Their future.</td>\n",
       "      <td>Freedom Writers</td>\n",
       "      <td>7.6</td>\n",
       "      <td>0</td>\n",
       "    </tr>\n",
       "    <tr>\n",
       "      <th>3</th>\n",
       "      <td>20000000</td>\n",
       "      <td>Action</td>\n",
       "      <td>14396</td>\n",
       "      <td>[{'name': 'New Line Cinema', 'id': 12}]</td>\n",
       "      <td>1/5/2007</td>\n",
       "      <td>January</td>\n",
       "      <td>10337477</td>\n",
       "      <td>NaN</td>\n",
       "      <td>Code Name: The Cleaner</td>\n",
       "      <td>4.7</td>\n",
       "      <td>0</td>\n",
       "    </tr>\n",
       "    <tr>\n",
       "      <th>4</th>\n",
       "      <td>13000000</td>\n",
       "      <td>Drama</td>\n",
       "      <td>1931</td>\n",
       "      <td>[{'name': 'Rainforest Films', 'id': 1309}]</td>\n",
       "      <td>5/16/2007</td>\n",
       "      <td>May</td>\n",
       "      <td>75511123</td>\n",
       "      <td>He will challenge their traditions. Their trad...</td>\n",
       "      <td>Stomp the Yard</td>\n",
       "      <td>6.1</td>\n",
       "      <td>0</td>\n",
       "    </tr>\n",
       "  </tbody>\n",
       "</table>\n",
       "</div>"
      ],
      "text/plain": [
       "     budget     genres      id  \\\n",
       "0   3512454      Drama  110428   \n",
       "1  40000000  Adventure   77221   \n",
       "2  21000000      Crime    1646   \n",
       "3  20000000     Action   14396   \n",
       "4  13000000      Drama    1931   \n",
       "\n",
       "                                production_companies release_date  \\\n",
       "0  [{'name': 'Canal+', 'id': 5358}, {'name': 'Art...    3/13/2013   \n",
       "1  [{'name': 'France 2 CinÃ©ma', 'id': 83}, {'nam...   12/21/2011   \n",
       "2  [{'name': 'Double Feature Films', 'id': 215}, ...     1/5/2007   \n",
       "3            [{'name': 'New Line Cinema', 'id': 12}]     1/5/2007   \n",
       "4         [{'name': 'Rainforest Films', 'id': 1309}]    5/16/2007   \n",
       "\n",
       "  release_month   revenue                                            tagline  \\\n",
       "0         March    115860                                                NaN   \n",
       "1      December   5446000                                                NaN   \n",
       "2       January  41170784            Their story. Their world. Their future.   \n",
       "3       January  10337477                                                NaN   \n",
       "4           May  75511123  He will challenge their traditions. Their trad...   \n",
       "\n",
       "                    title  vote_average  award_noms  \n",
       "0    Camille Claudel 1915           7.0           0  \n",
       "1              Black Gold           5.9           0  \n",
       "2         Freedom Writers           7.6           0  \n",
       "3  Code Name: The Cleaner           4.7           0  \n",
       "4          Stomp the Yard           6.1           0  "
      ]
     },
     "execution_count": 5,
     "metadata": {},
     "output_type": "execute_result"
    }
   ],
   "source": [
    "moviedata.head()"
   ]
  },
  {
   "cell_type": "code",
   "execution_count": 6,
   "metadata": {},
   "outputs": [
    {
     "data": {
      "text/html": [
       "<div>\n",
       "<style scoped>\n",
       "    .dataframe tbody tr th:only-of-type {\n",
       "        vertical-align: middle;\n",
       "    }\n",
       "\n",
       "    .dataframe tbody tr th {\n",
       "        vertical-align: top;\n",
       "    }\n",
       "\n",
       "    .dataframe thead th {\n",
       "        text-align: right;\n",
       "    }\n",
       "</style>\n",
       "<table border=\"1\" class=\"dataframe\">\n",
       "  <thead>\n",
       "    <tr style=\"text-align: right;\">\n",
       "      <th></th>\n",
       "      <th>title</th>\n",
       "      <th>revenue</th>\n",
       "      <th>budget</th>\n",
       "      <th>genres</th>\n",
       "      <th>release_month</th>\n",
       "      <th>vote_average</th>\n",
       "      <th>award_noms</th>\n",
       "      <th>roi</th>\n",
       "    </tr>\n",
       "  </thead>\n",
       "  <tbody>\n",
       "    <tr>\n",
       "      <th>0</th>\n",
       "      <td>Camille Claudel 1915</td>\n",
       "      <td>115860</td>\n",
       "      <td>3512454</td>\n",
       "      <td>Drama</td>\n",
       "      <td>March</td>\n",
       "      <td>7.0</td>\n",
       "      <td>0</td>\n",
       "      <td>-0.967015</td>\n",
       "    </tr>\n",
       "    <tr>\n",
       "      <th>1</th>\n",
       "      <td>Black Gold</td>\n",
       "      <td>5446000</td>\n",
       "      <td>40000000</td>\n",
       "      <td>Adventure</td>\n",
       "      <td>December</td>\n",
       "      <td>5.9</td>\n",
       "      <td>0</td>\n",
       "      <td>-0.863850</td>\n",
       "    </tr>\n",
       "    <tr>\n",
       "      <th>2</th>\n",
       "      <td>Freedom Writers</td>\n",
       "      <td>41170784</td>\n",
       "      <td>21000000</td>\n",
       "      <td>Crime</td>\n",
       "      <td>January</td>\n",
       "      <td>7.6</td>\n",
       "      <td>0</td>\n",
       "      <td>0.960514</td>\n",
       "    </tr>\n",
       "    <tr>\n",
       "      <th>3</th>\n",
       "      <td>Code Name: The Cleaner</td>\n",
       "      <td>10337477</td>\n",
       "      <td>20000000</td>\n",
       "      <td>Action</td>\n",
       "      <td>January</td>\n",
       "      <td>4.7</td>\n",
       "      <td>0</td>\n",
       "      <td>-0.483126</td>\n",
       "    </tr>\n",
       "    <tr>\n",
       "      <th>4</th>\n",
       "      <td>Stomp the Yard</td>\n",
       "      <td>75511123</td>\n",
       "      <td>13000000</td>\n",
       "      <td>Drama</td>\n",
       "      <td>May</td>\n",
       "      <td>6.1</td>\n",
       "      <td>0</td>\n",
       "      <td>4.808548</td>\n",
       "    </tr>\n",
       "  </tbody>\n",
       "</table>\n",
       "</div>"
      ],
      "text/plain": [
       "                    title   revenue    budget     genres release_month  \\\n",
       "0    Camille Claudel 1915    115860   3512454      Drama         March   \n",
       "1              Black Gold   5446000  40000000  Adventure      December   \n",
       "2         Freedom Writers  41170784  21000000      Crime       January   \n",
       "3  Code Name: The Cleaner  10337477  20000000     Action       January   \n",
       "4          Stomp the Yard  75511123  13000000      Drama           May   \n",
       "\n",
       "   vote_average  award_noms       roi  \n",
       "0           7.0           0 -0.967015  \n",
       "1           5.9           0 -0.863850  \n",
       "2           7.6           0  0.960514  \n",
       "3           4.7           0 -0.483126  \n",
       "4           6.1           0  4.808548  "
      ]
     },
     "execution_count": 6,
     "metadata": {},
     "output_type": "execute_result"
    }
   ],
   "source": [
    "movdat = moviedata[['title','revenue','budget','genres','release_month','vote_average','award_noms']]\n",
    "roi = pd.DataFrame((movdat['revenue']/movdat['budget']-1),columns=['roi'])\n",
    "movdat_df = pd.merge(movdat,roi, how='outer',left_index=True,right_index=True)\n",
    "movdat_df = movdat_df[movdat_df.roi <60]\n",
    "movdat_df.head()"
   ]
  },
  {
   "cell_type": "code",
   "execution_count": 7,
   "metadata": {},
   "outputs": [
    {
     "data": {
      "text/plain": [
       "Drama              552\n",
       "Comedy             429\n",
       "Action             408\n",
       "Adventure          151\n",
       "Horror             122\n",
       "Thriller           112\n",
       "Crime               97\n",
       "Animation           78\n",
       "Romance             56\n",
       "Fantasy             51\n",
       "Science Fiction     42\n",
       "Family              29\n",
       "Mystery             28\n",
       "Documentary         22\n",
       "War                 19\n",
       "History             17\n",
       "Music                7\n",
       "Western              5\n",
       "Foreign              3\n",
       "Name: genres, dtype: int64"
      ]
     },
     "execution_count": 7,
     "metadata": {},
     "output_type": "execute_result"
    }
   ],
   "source": [
    "movdat_df['genres'].value_counts()"
   ]
  },
  {
   "cell_type": "code",
   "execution_count": 8,
   "metadata": {},
   "outputs": [
    {
     "data": {
      "text/html": [
       "<div>\n",
       "<style scoped>\n",
       "    .dataframe tbody tr th:only-of-type {\n",
       "        vertical-align: middle;\n",
       "    }\n",
       "\n",
       "    .dataframe tbody tr th {\n",
       "        vertical-align: top;\n",
       "    }\n",
       "\n",
       "    .dataframe thead th {\n",
       "        text-align: right;\n",
       "    }\n",
       "</style>\n",
       "<table border=\"1\" class=\"dataframe\">\n",
       "  <thead>\n",
       "    <tr style=\"text-align: right;\">\n",
       "      <th></th>\n",
       "      <th>genres</th>\n",
       "      <th>revenue</th>\n",
       "      <th>budget</th>\n",
       "      <th>award_noms</th>\n",
       "      <th>vote_average</th>\n",
       "      <th>roi</th>\n",
       "    </tr>\n",
       "  </thead>\n",
       "  <tbody>\n",
       "    <tr>\n",
       "      <th>0</th>\n",
       "      <td>Action</td>\n",
       "      <td>75032777893</td>\n",
       "      <td>24686807673</td>\n",
       "      <td>45</td>\n",
       "      <td>6.111765</td>\n",
       "      <td>1.662789</td>\n",
       "    </tr>\n",
       "    <tr>\n",
       "      <th>1</th>\n",
       "      <td>Adventure</td>\n",
       "      <td>38384582208</td>\n",
       "      <td>13505729594</td>\n",
       "      <td>32</td>\n",
       "      <td>6.279470</td>\n",
       "      <td>1.627829</td>\n",
       "    </tr>\n",
       "    <tr>\n",
       "      <th>3</th>\n",
       "      <td>Comedy</td>\n",
       "      <td>30359234424</td>\n",
       "      <td>10455645574</td>\n",
       "      <td>42</td>\n",
       "      <td>5.983683</td>\n",
       "      <td>2.112345</td>\n",
       "    </tr>\n",
       "    <tr>\n",
       "      <th>6</th>\n",
       "      <td>Drama</td>\n",
       "      <td>28271133505</td>\n",
       "      <td>10692563705</td>\n",
       "      <td>246</td>\n",
       "      <td>6.541667</td>\n",
       "      <td>2.050081</td>\n",
       "    </tr>\n",
       "    <tr>\n",
       "      <th>2</th>\n",
       "      <td>Animation</td>\n",
       "      <td>24190848980</td>\n",
       "      <td>6672784588</td>\n",
       "      <td>21</td>\n",
       "      <td>6.478205</td>\n",
       "      <td>2.285196</td>\n",
       "    </tr>\n",
       "    <tr>\n",
       "      <th>15</th>\n",
       "      <td>Science Fiction</td>\n",
       "      <td>11274598085</td>\n",
       "      <td>3161420003</td>\n",
       "      <td>14</td>\n",
       "      <td>6.364286</td>\n",
       "      <td>3.445145</td>\n",
       "    </tr>\n",
       "  </tbody>\n",
       "</table>\n",
       "</div>"
      ],
      "text/plain": [
       "             genres      revenue       budget  award_noms  vote_average  \\\n",
       "0            Action  75032777893  24686807673          45      6.111765   \n",
       "1         Adventure  38384582208  13505729594          32      6.279470   \n",
       "3            Comedy  30359234424  10455645574          42      5.983683   \n",
       "6             Drama  28271133505  10692563705         246      6.541667   \n",
       "2         Animation  24190848980   6672784588          21      6.478205   \n",
       "15  Science Fiction  11274598085   3161420003          14      6.364286   \n",
       "\n",
       "         roi  \n",
       "0   1.662789  \n",
       "1   1.627829  \n",
       "3   2.112345  \n",
       "6   2.050081  \n",
       "2   2.285196  \n",
       "15  3.445145  "
      ]
     },
     "execution_count": 8,
     "metadata": {},
     "output_type": "execute_result"
    }
   ],
   "source": [
    "g = movdat_df.groupby('genres').sum()\n",
    "g = g.drop(columns=['vote_average', 'roi'])\n",
    "g = g.reset_index()\n",
    "g2 = movdat_df.groupby('genres').mean()\n",
    "g2 = g2.drop(columns=['budget', 'revenue','award_noms'])\n",
    "g2 = g2.reset_index()\n",
    "g3 = pd.merge(g,g2)\n",
    "g3 = g3.sort_values(['revenue'], ascending=False)\n",
    "g3 = g3.head(6)\n",
    "g3"
   ]
  },
  {
   "cell_type": "code",
   "execution_count": 9,
   "metadata": {},
   "outputs": [
    {
     "data": {
      "text/html": [
       "<div>\n",
       "<style scoped>\n",
       "    .dataframe tbody tr th:only-of-type {\n",
       "        vertical-align: middle;\n",
       "    }\n",
       "\n",
       "    .dataframe tbody tr th {\n",
       "        vertical-align: top;\n",
       "    }\n",
       "\n",
       "    .dataframe thead th {\n",
       "        text-align: right;\n",
       "    }\n",
       "</style>\n",
       "<table border=\"1\" class=\"dataframe\">\n",
       "  <thead>\n",
       "    <tr style=\"text-align: right;\">\n",
       "      <th></th>\n",
       "      <th>revenue</th>\n",
       "      <th>budget</th>\n",
       "      <th>award_noms</th>\n",
       "      <th>vote_average</th>\n",
       "      <th>roi</th>\n",
       "    </tr>\n",
       "  </thead>\n",
       "  <tbody>\n",
       "    <tr>\n",
       "      <th>revenue</th>\n",
       "      <td>1.000000</td>\n",
       "      <td>0.991536</td>\n",
       "      <td>-0.034663</td>\n",
       "      <td>-0.482207</td>\n",
       "      <td>-0.728000</td>\n",
       "    </tr>\n",
       "    <tr>\n",
       "      <th>budget</th>\n",
       "      <td>0.991536</td>\n",
       "      <td>1.000000</td>\n",
       "      <td>0.056632</td>\n",
       "      <td>-0.477973</td>\n",
       "      <td>-0.767711</td>\n",
       "    </tr>\n",
       "    <tr>\n",
       "      <th>award_noms</th>\n",
       "      <td>-0.034663</td>\n",
       "      <td>0.056632</td>\n",
       "      <td>1.000000</td>\n",
       "      <td>0.467169</td>\n",
       "      <td>-0.213113</td>\n",
       "    </tr>\n",
       "    <tr>\n",
       "      <th>vote_average</th>\n",
       "      <td>-0.482207</td>\n",
       "      <td>-0.477973</td>\n",
       "      <td>0.467169</td>\n",
       "      <td>1.000000</td>\n",
       "      <td>0.280237</td>\n",
       "    </tr>\n",
       "    <tr>\n",
       "      <th>roi</th>\n",
       "      <td>-0.728000</td>\n",
       "      <td>-0.767711</td>\n",
       "      <td>-0.213113</td>\n",
       "      <td>0.280237</td>\n",
       "      <td>1.000000</td>\n",
       "    </tr>\n",
       "  </tbody>\n",
       "</table>\n",
       "</div>"
      ],
      "text/plain": [
       "               revenue    budget  award_noms  vote_average       roi\n",
       "revenue       1.000000  0.991536   -0.034663     -0.482207 -0.728000\n",
       "budget        0.991536  1.000000    0.056632     -0.477973 -0.767711\n",
       "award_noms   -0.034663  0.056632    1.000000      0.467169 -0.213113\n",
       "vote_average -0.482207 -0.477973    0.467169      1.000000  0.280237\n",
       "roi          -0.728000 -0.767711   -0.213113      0.280237  1.000000"
      ]
     },
     "execution_count": 9,
     "metadata": {},
     "output_type": "execute_result"
    }
   ],
   "source": [
    "g3.corr()"
   ]
  },
  {
   "cell_type": "code",
   "execution_count": 10,
   "metadata": {},
   "outputs": [
    {
     "data": {
      "image/png": "[encoded data removed]",
      "text/plain": [
       "<matplotlib.figure.Figure at 0x2425decfa90>"
      ]
     },
     "metadata": {},
     "output_type": "display_data"
    }
   ],
   "source": [
    "plt.subplots(figsize=(10, 6))\n",
    "sns.set_color_codes(\"pastel\")\n",
    "sns.barplot(x=\"revenue\", y=\"genres\", data=g3,label=\"Revenue\", color=\"b\")\n",
    "sns.set_color_codes(\"muted\")\n",
    "sns.barplot(x=\"budget\", y=\"genres\", data=g3,label=\"Budget\", color=\"b\")\n",
    "plt.legend(ncol=2, loc=\"lower right\", frameon=True)\n",
    "plt.xlabel(\"Billion of Dollars($)\")\n",
    "plt.show()"
   ]
  },
  {
   "cell_type": "code",
   "execution_count": 11,
   "metadata": {},
   "outputs": [
    {
     "data": {
      "text/plain": [
       "September    293\n",
       "October      214\n",
       "August       189\n",
       "December     187\n",
       "February     178\n",
       "March        175\n",
       "May          174\n",
       "July         165\n",
       "June         164\n",
       "November     164\n",
       "April        164\n",
       "January      161\n",
       "Name: release_month, dtype: int64"
      ]
     },
     "execution_count": 11,
     "metadata": {},
     "output_type": "execute_result"
    }
   ],
   "source": [
    "movdat_df['release_month'].value_counts()"
   ]
  },
  {
   "cell_type": "code",
   "execution_count": 12,
   "metadata": {},
   "outputs": [
    {
     "data": {
      "text/html": [
       "<div>\n",
       "<style scoped>\n",
       "    .dataframe tbody tr th:only-of-type {\n",
       "        vertical-align: middle;\n",
       "    }\n",
       "\n",
       "    .dataframe tbody tr th {\n",
       "        vertical-align: top;\n",
       "    }\n",
       "\n",
       "    .dataframe thead th {\n",
       "        text-align: right;\n",
       "    }\n",
       "</style>\n",
       "<table border=\"1\" class=\"dataframe\">\n",
       "  <thead>\n",
       "    <tr style=\"text-align: right;\">\n",
       "      <th></th>\n",
       "      <th>release_month</th>\n",
       "      <th>revenue</th>\n",
       "      <th>budget</th>\n",
       "      <th>award_noms</th>\n",
       "      <th>vote_average</th>\n",
       "      <th>roi</th>\n",
       "    </tr>\n",
       "  </thead>\n",
       "  <tbody>\n",
       "    <tr>\n",
       "      <th>6</th>\n",
       "      <td>June</td>\n",
       "      <td>37458553218</td>\n",
       "      <td>10053027964</td>\n",
       "      <td>20</td>\n",
       "      <td>6.260366</td>\n",
       "      <td>2.800587</td>\n",
       "    </tr>\n",
       "    <tr>\n",
       "      <th>2</th>\n",
       "      <td>December</td>\n",
       "      <td>29463044352</td>\n",
       "      <td>9096875528</td>\n",
       "      <td>101</td>\n",
       "      <td>6.333690</td>\n",
       "      <td>2.408324</td>\n",
       "    </tr>\n",
       "    <tr>\n",
       "      <th>8</th>\n",
       "      <td>May</td>\n",
       "      <td>27325073348</td>\n",
       "      <td>9387618741</td>\n",
       "      <td>46</td>\n",
       "      <td>6.370690</td>\n",
       "      <td>2.203896</td>\n",
       "    </tr>\n",
       "    <tr>\n",
       "      <th>5</th>\n",
       "      <td>July</td>\n",
       "      <td>24646177883</td>\n",
       "      <td>8080315448</td>\n",
       "      <td>32</td>\n",
       "      <td>6.225455</td>\n",
       "      <td>3.128296</td>\n",
       "    </tr>\n",
       "    <tr>\n",
       "      <th>9</th>\n",
       "      <td>November</td>\n",
       "      <td>22418144562</td>\n",
       "      <td>7181503469</td>\n",
       "      <td>133</td>\n",
       "      <td>6.453049</td>\n",
       "      <td>2.183067</td>\n",
       "    </tr>\n",
       "    <tr>\n",
       "      <th>0</th>\n",
       "      <td>April</td>\n",
       "      <td>21248604399</td>\n",
       "      <td>6581637936</td>\n",
       "      <td>2</td>\n",
       "      <td>6.128659</td>\n",
       "      <td>1.607906</td>\n",
       "    </tr>\n",
       "    <tr>\n",
       "      <th>7</th>\n",
       "      <td>March</td>\n",
       "      <td>21206065546</td>\n",
       "      <td>7761060129</td>\n",
       "      <td>7</td>\n",
       "      <td>6.179429</td>\n",
       "      <td>1.633507</td>\n",
       "    </tr>\n",
       "    <tr>\n",
       "      <th>10</th>\n",
       "      <td>October</td>\n",
       "      <td>17881531302</td>\n",
       "      <td>6603895033</td>\n",
       "      <td>65</td>\n",
       "      <td>6.295327</td>\n",
       "      <td>2.293258</td>\n",
       "    </tr>\n",
       "    <tr>\n",
       "      <th>3</th>\n",
       "      <td>February</td>\n",
       "      <td>15577154469</td>\n",
       "      <td>5556232967</td>\n",
       "      <td>19</td>\n",
       "      <td>6.177528</td>\n",
       "      <td>2.055210</td>\n",
       "    </tr>\n",
       "    <tr>\n",
       "      <th>11</th>\n",
       "      <td>September</td>\n",
       "      <td>14922990282</td>\n",
       "      <td>6265878052</td>\n",
       "      <td>59</td>\n",
       "      <td>6.237884</td>\n",
       "      <td>1.690641</td>\n",
       "    </tr>\n",
       "    <tr>\n",
       "      <th>1</th>\n",
       "      <td>August</td>\n",
       "      <td>14567168524</td>\n",
       "      <td>5817958457</td>\n",
       "      <td>34</td>\n",
       "      <td>6.116931</td>\n",
       "      <td>2.188246</td>\n",
       "    </tr>\n",
       "    <tr>\n",
       "      <th>4</th>\n",
       "      <td>January</td>\n",
       "      <td>9864794088</td>\n",
       "      <td>4160771065</td>\n",
       "      <td>2</td>\n",
       "      <td>5.957764</td>\n",
       "      <td>1.902615</td>\n",
       "    </tr>\n",
       "  </tbody>\n",
       "</table>\n",
       "</div>"
      ],
      "text/plain": [
       "   release_month      revenue       budget  award_noms  vote_average       roi\n",
       "6           June  37458553218  10053027964          20      6.260366  2.800587\n",
       "2       December  29463044352   9096875528         101      6.333690  2.408324\n",
       "8            May  27325073348   9387618741          46      6.370690  2.203896\n",
       "5           July  24646177883   8080315448          32      6.225455  3.128296\n",
       "9       November  22418144562   7181503469         133      6.453049  2.183067\n",
       "0          April  21248604399   6581637936           2      6.128659  1.607906\n",
       "7          March  21206065546   7761060129           7      6.179429  1.633507\n",
       "10       October  17881531302   6603895033          65      6.295327  2.293258\n",
       "3       February  15577154469   5556232967          19      6.177528  2.055210\n",
       "11     September  14922990282   6265878052          59      6.237884  1.690641\n",
       "1         August  14567168524   5817958457          34      6.116931  2.188246\n",
       "4        January   9864794088   4160771065           2      5.957764  1.902615"
      ]
     },
     "execution_count": 12,
     "metadata": {},
     "output_type": "execute_result"
    }
   ],
   "source": [
    "mo = movdat_df.groupby('release_month').sum()\n",
    "mo = mo.drop(columns=['vote_average', 'roi'])\n",
    "mo = mo.reset_index()\n",
    "mo2 = movdat_df.groupby('release_month').mean()\n",
    "mo2 = mo2.drop(columns=['budget', 'revenue','award_noms'])\n",
    "mo2 = mo2.reset_index()\n",
    "mo3 = pd.merge(mo,mo2)\n",
    "mo3 = mo3.sort_values(['revenue'], ascending=False)\n",
    "mo3"
   ]
  },
  {
   "cell_type": "code",
   "execution_count": 24,
   "metadata": {},
   "outputs": [
    {
     "data": {
      "image/png": "[encoded data removed]",
      "text/plain": [
       "<matplotlib.figure.Figure at 0x2425eb7d2e8>"
      ]
     },
     "metadata": {},
     "output_type": "display_data"
    }
   ],
   "source": [
    "plt.subplots(figsize=(10, 6))\n",
    "sns.set_color_codes(\"deep\")\n",
    "sns.barplot(x=\"revenue\", y=\"release_month\", data=mo3,label=\"Revenue\", color=\"g\")\n",
    "sns.set_color_codes(\"muted\")\n",
    "plt.xlabel(\"Billion of Dollars($)\")\n",
    "plt.show()"
   ]
  },
  {
   "cell_type": "code",
   "execution_count": 14,
   "metadata": {},
   "outputs": [
    {
     "data": {
      "text/html": [
       "<div>\n",
       "<style scoped>\n",
       "    .dataframe tbody tr th:only-of-type {\n",
       "        vertical-align: middle;\n",
       "    }\n",
       "\n",
       "    .dataframe tbody tr th {\n",
       "        vertical-align: top;\n",
       "    }\n",
       "\n",
       "    .dataframe thead th {\n",
       "        text-align: right;\n",
       "    }\n",
       "</style>\n",
       "<table border=\"1\" class=\"dataframe\">\n",
       "  <thead>\n",
       "    <tr style=\"text-align: right;\">\n",
       "      <th></th>\n",
       "      <th>genres</th>\n",
       "      <th>revenue</th>\n",
       "      <th>budget</th>\n",
       "      <th>award_noms</th>\n",
       "      <th>vote_average</th>\n",
       "      <th>roi</th>\n",
       "      <th>release_month</th>\n",
       "    </tr>\n",
       "  </thead>\n",
       "  <tbody>\n",
       "    <tr>\n",
       "      <th>0</th>\n",
       "      <td>Action</td>\n",
       "      <td>75032777893</td>\n",
       "      <td>24686807673</td>\n",
       "      <td>45</td>\n",
       "      <td>6.111765</td>\n",
       "      <td>1.662789</td>\n",
       "      <td>NaN</td>\n",
       "    </tr>\n",
       "    <tr>\n",
       "      <th>1</th>\n",
       "      <td>Adventure</td>\n",
       "      <td>38384582208</td>\n",
       "      <td>13505729594</td>\n",
       "      <td>32</td>\n",
       "      <td>6.279470</td>\n",
       "      <td>1.627829</td>\n",
       "      <td>NaN</td>\n",
       "    </tr>\n",
       "    <tr>\n",
       "      <th>2</th>\n",
       "      <td>Comedy</td>\n",
       "      <td>30359234424</td>\n",
       "      <td>10455645574</td>\n",
       "      <td>42</td>\n",
       "      <td>5.983683</td>\n",
       "      <td>2.112345</td>\n",
       "      <td>NaN</td>\n",
       "    </tr>\n",
       "    <tr>\n",
       "      <th>3</th>\n",
       "      <td>Drama</td>\n",
       "      <td>28271133505</td>\n",
       "      <td>10692563705</td>\n",
       "      <td>246</td>\n",
       "      <td>6.541667</td>\n",
       "      <td>2.050081</td>\n",
       "      <td>NaN</td>\n",
       "    </tr>\n",
       "    <tr>\n",
       "      <th>4</th>\n",
       "      <td>Animation</td>\n",
       "      <td>24190848980</td>\n",
       "      <td>6672784588</td>\n",
       "      <td>21</td>\n",
       "      <td>6.478205</td>\n",
       "      <td>2.285196</td>\n",
       "      <td>NaN</td>\n",
       "    </tr>\n",
       "    <tr>\n",
       "      <th>5</th>\n",
       "      <td>Science Fiction</td>\n",
       "      <td>11274598085</td>\n",
       "      <td>3161420003</td>\n",
       "      <td>14</td>\n",
       "      <td>6.364286</td>\n",
       "      <td>3.445145</td>\n",
       "      <td>NaN</td>\n",
       "    </tr>\n",
       "    <tr>\n",
       "      <th>6</th>\n",
       "      <td>NaN</td>\n",
       "      <td>37458553218</td>\n",
       "      <td>10053027964</td>\n",
       "      <td>20</td>\n",
       "      <td>6.260366</td>\n",
       "      <td>2.800587</td>\n",
       "      <td>June</td>\n",
       "    </tr>\n",
       "    <tr>\n",
       "      <th>7</th>\n",
       "      <td>NaN</td>\n",
       "      <td>29463044352</td>\n",
       "      <td>9096875528</td>\n",
       "      <td>101</td>\n",
       "      <td>6.333690</td>\n",
       "      <td>2.408324</td>\n",
       "      <td>December</td>\n",
       "    </tr>\n",
       "    <tr>\n",
       "      <th>8</th>\n",
       "      <td>NaN</td>\n",
       "      <td>27325073348</td>\n",
       "      <td>9387618741</td>\n",
       "      <td>46</td>\n",
       "      <td>6.370690</td>\n",
       "      <td>2.203896</td>\n",
       "      <td>May</td>\n",
       "    </tr>\n",
       "    <tr>\n",
       "      <th>9</th>\n",
       "      <td>NaN</td>\n",
       "      <td>24646177883</td>\n",
       "      <td>8080315448</td>\n",
       "      <td>32</td>\n",
       "      <td>6.225455</td>\n",
       "      <td>3.128296</td>\n",
       "      <td>July</td>\n",
       "    </tr>\n",
       "    <tr>\n",
       "      <th>10</th>\n",
       "      <td>NaN</td>\n",
       "      <td>22418144562</td>\n",
       "      <td>7181503469</td>\n",
       "      <td>133</td>\n",
       "      <td>6.453049</td>\n",
       "      <td>2.183067</td>\n",
       "      <td>November</td>\n",
       "    </tr>\n",
       "    <tr>\n",
       "      <th>11</th>\n",
       "      <td>NaN</td>\n",
       "      <td>21248604399</td>\n",
       "      <td>6581637936</td>\n",
       "      <td>2</td>\n",
       "      <td>6.128659</td>\n",
       "      <td>1.607906</td>\n",
       "      <td>April</td>\n",
       "    </tr>\n",
       "    <tr>\n",
       "      <th>12</th>\n",
       "      <td>NaN</td>\n",
       "      <td>21206065546</td>\n",
       "      <td>7761060129</td>\n",
       "      <td>7</td>\n",
       "      <td>6.179429</td>\n",
       "      <td>1.633507</td>\n",
       "      <td>March</td>\n",
       "    </tr>\n",
       "    <tr>\n",
       "      <th>13</th>\n",
       "      <td>NaN</td>\n",
       "      <td>17881531302</td>\n",
       "      <td>6603895033</td>\n",
       "      <td>65</td>\n",
       "      <td>6.295327</td>\n",
       "      <td>2.293258</td>\n",
       "      <td>October</td>\n",
       "    </tr>\n",
       "    <tr>\n",
       "      <th>14</th>\n",
       "      <td>NaN</td>\n",
       "      <td>15577154469</td>\n",
       "      <td>5556232967</td>\n",
       "      <td>19</td>\n",
       "      <td>6.177528</td>\n",
       "      <td>2.055210</td>\n",
       "      <td>February</td>\n",
       "    </tr>\n",
       "    <tr>\n",
       "      <th>15</th>\n",
       "      <td>NaN</td>\n",
       "      <td>14922990282</td>\n",
       "      <td>6265878052</td>\n",
       "      <td>59</td>\n",
       "      <td>6.237884</td>\n",
       "      <td>1.690641</td>\n",
       "      <td>September</td>\n",
       "    </tr>\n",
       "    <tr>\n",
       "      <th>16</th>\n",
       "      <td>NaN</td>\n",
       "      <td>14567168524</td>\n",
       "      <td>5817958457</td>\n",
       "      <td>34</td>\n",
       "      <td>6.116931</td>\n",
       "      <td>2.188246</td>\n",
       "      <td>August</td>\n",
       "    </tr>\n",
       "    <tr>\n",
       "      <th>17</th>\n",
       "      <td>NaN</td>\n",
       "      <td>9864794088</td>\n",
       "      <td>4160771065</td>\n",
       "      <td>2</td>\n",
       "      <td>5.957764</td>\n",
       "      <td>1.902615</td>\n",
       "      <td>January</td>\n",
       "    </tr>\n",
       "  </tbody>\n",
       "</table>\n",
       "</div>"
      ],
      "text/plain": [
       "             genres      revenue       budget  award_noms  vote_average  \\\n",
       "0            Action  75032777893  24686807673          45      6.111765   \n",
       "1         Adventure  38384582208  13505729594          32      6.279470   \n",
       "2            Comedy  30359234424  10455645574          42      5.983683   \n",
       "3             Drama  28271133505  10692563705         246      6.541667   \n",
       "4         Animation  24190848980   6672784588          21      6.478205   \n",
       "5   Science Fiction  11274598085   3161420003          14      6.364286   \n",
       "6               NaN  37458553218  10053027964          20      6.260366   \n",
       "7               NaN  29463044352   9096875528         101      6.333690   \n",
       "8               NaN  27325073348   9387618741          46      6.370690   \n",
       "9               NaN  24646177883   8080315448          32      6.225455   \n",
       "10              NaN  22418144562   7181503469         133      6.453049   \n",
       "11              NaN  21248604399   6581637936           2      6.128659   \n",
       "12              NaN  21206065546   7761060129           7      6.179429   \n",
       "13              NaN  17881531302   6603895033          65      6.295327   \n",
       "14              NaN  15577154469   5556232967          19      6.177528   \n",
       "15              NaN  14922990282   6265878052          59      6.237884   \n",
       "16              NaN  14567168524   5817958457          34      6.116931   \n",
       "17              NaN   9864794088   4160771065           2      5.957764   \n",
       "\n",
       "         roi release_month  \n",
       "0   1.662789           NaN  \n",
       "1   1.627829           NaN  \n",
       "2   2.112345           NaN  \n",
       "3   2.050081           NaN  \n",
       "4   2.285196           NaN  \n",
       "5   3.445145           NaN  \n",
       "6   2.800587          June  \n",
       "7   2.408324      December  \n",
       "8   2.203896           May  \n",
       "9   3.128296          July  \n",
       "10  2.183067      November  \n",
       "11  1.607906         April  \n",
       "12  1.633507         March  \n",
       "13  2.293258       October  \n",
       "14  2.055210      February  \n",
       "15  1.690641     September  \n",
       "16  2.188246        August  \n",
       "17  1.902615       January  "
      ]
     },
     "execution_count": 14,
     "metadata": {},
     "output_type": "execute_result"
    }
   ],
   "source": [
    "gmo = pd.merge(g3,mo3,how='outer')\n",
    "gmo"
   ]
  },
  {
   "cell_type": "code",
   "execution_count": 25,
   "metadata": {},
   "outputs": [
    {
     "data": {
      "image/png": "[encoded data removed]",
      "text/plain": [
       "<matplotlib.figure.Figure at 0x2425ec92898>"
      ]
     },
     "metadata": {},
     "output_type": "display_data"
    }
   ],
   "source": [
    "\n",
    "plt.subplots(figsize=(10, 6))\n",
    "sns.set_color_codes(\"deep\")\n",
    "sns.barplot(x=\"roi\", y=\"release_month\", data=mo3,label=\"Revenue\", color=\"b\")\n",
    "sns.set_color_codes(\"muted\")\n",
    "plt.xlabel(\"ROI\")\n",
    "plt.show()"
   ]
  },
  {
   "cell_type": "code",
   "execution_count": null,
   "metadata": {},
   "outputs": [],
   "source": []
  },
  {
   "cell_type": "code",
   "execution_count": 16,
   "metadata": {},
   "outputs": [
    {
     "data": {
      "text/html": [
       "<div>\n",
       "<style scoped>\n",
       "    .dataframe tbody tr th:only-of-type {\n",
       "        vertical-align: middle;\n",
       "    }\n",
       "\n",
       "    .dataframe tbody tr th {\n",
       "        vertical-align: top;\n",
       "    }\n",
       "\n",
       "    .dataframe thead th {\n",
       "        text-align: right;\n",
       "    }\n",
       "</style>\n",
       "<table border=\"1\" class=\"dataframe\">\n",
       "  <thead>\n",
       "    <tr style=\"text-align: right;\">\n",
       "      <th></th>\n",
       "      <th>revenue</th>\n",
       "      <th>budget</th>\n",
       "      <th>award_noms</th>\n",
       "      <th>vote_average</th>\n",
       "      <th>roi</th>\n",
       "    </tr>\n",
       "  </thead>\n",
       "  <tbody>\n",
       "    <tr>\n",
       "      <th>revenue</th>\n",
       "      <td>1.000000</td>\n",
       "      <td>0.980712</td>\n",
       "      <td>0.106226</td>\n",
       "      <td>-0.036442</td>\n",
       "      <td>-0.227988</td>\n",
       "    </tr>\n",
       "    <tr>\n",
       "      <th>budget</th>\n",
       "      <td>0.980712</td>\n",
       "      <td>1.000000</td>\n",
       "      <td>0.164097</td>\n",
       "      <td>-0.079159</td>\n",
       "      <td>-0.334566</td>\n",
       "    </tr>\n",
       "    <tr>\n",
       "      <th>award_noms</th>\n",
       "      <td>0.106226</td>\n",
       "      <td>0.164097</td>\n",
       "      <td>1.000000</td>\n",
       "      <td>0.604299</td>\n",
       "      <td>-0.037802</td>\n",
       "    </tr>\n",
       "    <tr>\n",
       "      <th>vote_average</th>\n",
       "      <td>-0.036442</td>\n",
       "      <td>-0.079159</td>\n",
       "      <td>0.604299</td>\n",
       "      <td>1.000000</td>\n",
       "      <td>0.298202</td>\n",
       "    </tr>\n",
       "    <tr>\n",
       "      <th>roi</th>\n",
       "      <td>-0.227988</td>\n",
       "      <td>-0.334566</td>\n",
       "      <td>-0.037802</td>\n",
       "      <td>0.298202</td>\n",
       "      <td>1.000000</td>\n",
       "    </tr>\n",
       "  </tbody>\n",
       "</table>\n",
       "</div>"
      ],
      "text/plain": [
       "               revenue    budget  award_noms  vote_average       roi\n",
       "revenue       1.000000  0.980712    0.106226     -0.036442 -0.227988\n",
       "budget        0.980712  1.000000    0.164097     -0.079159 -0.334566\n",
       "award_noms    0.106226  0.164097    1.000000      0.604299 -0.037802\n",
       "vote_average -0.036442 -0.079159    0.604299      1.000000  0.298202\n",
       "roi          -0.227988 -0.334566   -0.037802      0.298202  1.000000"
      ]
     },
     "execution_count": 16,
     "metadata": {},
     "output_type": "execute_result"
    }
   ],
   "source": [
    "gmo.corr()"
   ]
  },
  {
   "cell_type": "code",
   "execution_count": 17,
   "metadata": {},
   "outputs": [
    {
     "data": {
      "text/html": [
       "<div>\n",
       "<style scoped>\n",
       "    .dataframe tbody tr th:only-of-type {\n",
       "        vertical-align: middle;\n",
       "    }\n",
       "\n",
       "    .dataframe tbody tr th {\n",
       "        vertical-align: top;\n",
       "    }\n",
       "\n",
       "    .dataframe thead th {\n",
       "        text-align: right;\n",
       "    }\n",
       "</style>\n",
       "<table border=\"1\" class=\"dataframe\">\n",
       "  <thead>\n",
       "    <tr style=\"text-align: right;\">\n",
       "      <th></th>\n",
       "      <th>revenue</th>\n",
       "      <th>budget</th>\n",
       "      <th>vote_average</th>\n",
       "      <th>award_noms</th>\n",
       "      <th>roi</th>\n",
       "    </tr>\n",
       "  </thead>\n",
       "  <tbody>\n",
       "    <tr>\n",
       "      <th>revenue</th>\n",
       "      <td>1.000000</td>\n",
       "      <td>0.784427</td>\n",
       "      <td>0.194674</td>\n",
       "      <td>0.197545</td>\n",
       "      <td>0.240119</td>\n",
       "    </tr>\n",
       "    <tr>\n",
       "      <th>budget</th>\n",
       "      <td>0.784427</td>\n",
       "      <td>1.000000</td>\n",
       "      <td>0.074709</td>\n",
       "      <td>0.094010</td>\n",
       "      <td>-0.030554</td>\n",
       "    </tr>\n",
       "    <tr>\n",
       "      <th>vote_average</th>\n",
       "      <td>0.194674</td>\n",
       "      <td>0.074709</td>\n",
       "      <td>1.000000</td>\n",
       "      <td>0.246412</td>\n",
       "      <td>0.171770</td>\n",
       "    </tr>\n",
       "    <tr>\n",
       "      <th>award_noms</th>\n",
       "      <td>0.197545</td>\n",
       "      <td>0.094010</td>\n",
       "      <td>0.246412</td>\n",
       "      <td>1.000000</td>\n",
       "      <td>0.164309</td>\n",
       "    </tr>\n",
       "    <tr>\n",
       "      <th>roi</th>\n",
       "      <td>0.240119</td>\n",
       "      <td>-0.030554</td>\n",
       "      <td>0.171770</td>\n",
       "      <td>0.164309</td>\n",
       "      <td>1.000000</td>\n",
       "    </tr>\n",
       "  </tbody>\n",
       "</table>\n",
       "</div>"
      ],
      "text/plain": [
       "               revenue    budget  vote_average  award_noms       roi\n",
       "revenue       1.000000  0.784427      0.194674    0.197545  0.240119\n",
       "budget        0.784427  1.000000      0.074709    0.094010 -0.030554\n",
       "vote_average  0.194674  0.074709      1.000000    0.246412  0.171770\n",
       "award_noms    0.197545  0.094010      0.246412    1.000000  0.164309\n",
       "roi           0.240119 -0.030554      0.171770    0.164309  1.000000"
      ]
     },
     "execution_count": 17,
     "metadata": {},
     "output_type": "execute_result"
    }
   ],
   "source": [
    "movdat_df.corr()"
   ]
  },
  {
   "cell_type": "code",
   "execution_count": 18,
   "metadata": {},
   "outputs": [
    {
     "data": {
      "text/plain": [
       "<matplotlib.axes._subplots.AxesSubplot at 0x2425e147470>"
      ]
     },
     "execution_count": 18,
     "metadata": {},
     "output_type": "execute_result"
    },
    {
     "data": {
      "image/png": "[encoded data removed]",
      "text/plain": [
       "<matplotlib.figure.Figure at 0x2425e586240>"
      ]
     },
     "metadata": {},
     "output_type": "display_data"
    }
   ],
   "source": [
    "cmap = sns.diverging_palette(220, 10, as_cmap=True)\n",
    "plt.subplots(figsize=(10, 6))\n",
    "sns.heatmap(movdat_df.corr(),cmap=cmap,vmin=-0.5, center=0)"
   ]
  },
  {
   "cell_type": "code",
   "execution_count": 19,
   "metadata": {},
   "outputs": [
    {
     "data": {
      "text/plain": [
       "<seaborn.axisgrid.JointGrid at 0x2425e13ac50>"
      ]
     },
     "execution_count": 19,
     "metadata": {},
     "output_type": "execute_result"
    },
    {
     "data": {
      "image/png": "[encoded data removed]",
      "text/plain": [
       "<matplotlib.figure.Figure at 0x2425dfbdb38>"
      ]
     },
     "metadata": {},
     "output_type": "display_data"
    }
   ],
   "source": [
    "sns.jointplot('budget','revenue',data=movdat_df,kind=\"reg\")\n"
   ]
  },
  {
   "cell_type": "code",
   "execution_count": 20,
   "metadata": {},
   "outputs": [
    {
     "data": {
      "text/plain": [
       "<seaborn.axisgrid.JointGrid at 0x2425e67a5c0>"
      ]
     },
     "execution_count": 20,
     "metadata": {},
     "output_type": "execute_result"
    },
    {
     "data": {
      "image/png": "[encoded data removed]",
      "text/plain": [
       "<matplotlib.figure.Figure at 0x2425e67a390>"
      ]
     },
     "metadata": {},
     "output_type": "display_data"
    }
   ],
   "source": [
    "sns.jointplot('vote_average','revenue',data=movdat_df,kind=\"reg\")"
   ]
  },
  {
   "cell_type": "code",
   "execution_count": 21,
   "metadata": {},
   "outputs": [
    {
     "data": {
      "text/plain": [
       "<seaborn.axisgrid.JointGrid at 0x2425e866be0>"
      ]
     },
     "execution_count": 21,
     "metadata": {},
     "output_type": "execute_result"
    },
    {
     "data": {
      "image/png": "[encoded data removed]",
      "text/plain": [
       "<matplotlib.figure.Figure at 0x2425e85a160>"
      ]
     },
     "metadata": {},
     "output_type": "display_data"
    }
   ],
   "source": [
    "sns.jointplot('award_noms','revenue',data=movdat_df,kind=\"reg\")"
   ]
  },
  {
   "cell_type": "code",
   "execution_count": 22,
   "metadata": {},
   "outputs": [
    {
     "data": {
      "text/plain": [
       "<seaborn.axisgrid.JointGrid at 0x2425e408a20>"
      ]
     },
     "execution_count": 22,
     "metadata": {},
     "output_type": "execute_result"
    },
    {
     "data": {
      "image/png": "[encoded data removed]",
      "text/plain": [
       "<matplotlib.figure.Figure at 0x2425e408080>"
      ]
     },
     "metadata": {},
     "output_type": "display_data"
    }
   ],
   "source": [
    "sns.jointplot('roi','revenue',data=movdat_df,kind=\"reg\")"
   ]
  },
  {
   "cell_type": "code",
   "execution_count": 23,
   "metadata": {},
   "outputs": [
    {
     "data": {
      "text/plain": [
       "<matplotlib.axes._subplots.AxesSubplot at 0x2425eaff358>"
      ]
     },
     "execution_count": 23,
     "metadata": {},
     "output_type": "execute_result"
    },
    {
     "data": {
      "image/png": "[encoded data removed]",
      "text/plain": [
       "<matplotlib.figure.Figure at 0x2425dfbdf98>"
      ]
     },
     "metadata": {},
     "output_type": "display_data"
    }
   ],
   "source": [
    "sns.distplot(movdat_df['budget'])"
   ]
  },
  {
   "cell_type": "code",
   "execution_count": null,
   "metadata": {},
   "outputs": [],
   "source": []
  }
 ],
 "metadata": {
  "kernelspec": {
   "display_name": "Python 3",
   "language": "python",
   "name": "python3"
  },
  "language_info": {
   "codemirror_mode": {
    "name": "ipython",
    "version": 3
   },
   "file_extension": ".py",
   "mimetype": "text/x-python",
   "name": "python",
   "nbconvert_exporter": "python",
   "pygments_lexer": "ipython3",
   "version": "3.6.4"
  }
 },
 "nbformat": 4,
 "nbformat_minor": 2
}
